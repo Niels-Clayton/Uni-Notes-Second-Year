{
 "cells": [
  {
   "cell_type": "markdown",
   "metadata": {},
   "source": [
    "# Project report (title)\n",
    "\n",
    "## Name (ID)"
   ]
  },
  {
   "cell_type": "markdown",
   "metadata": {},
   "source": [
    "## Question 1\n"
   ]
  },
  {
   "cell_type": "markdown",
   "metadata": {},
   "source": [
    "### Introduction\n",
    "\n",
    "The purpose of this project was to use..."
   ]
  },
  {
   "cell_type": "markdown",
   "metadata": {},
   "source": [
    "### Procedure\n",
    "\n",
    "Here you need to describe what you did to solve this question, include proofs, algorithms etc...\n",
    "\n",
    "Here you need to include your code as well...\n",
    "\n",
    "\n"
   ]
  },
  {
   "cell_type": "markdown",
   "source": [
    "### Observations\n",
    "\n",
    "Here you need to describe the results including graphs."
   ],
   "metadata": {
    "collapsed": false
   }
  },
  {
   "cell_type": "markdown",
   "metadata": {},
   "source": [
    "### Discussion\n",
    "\n",
    "Here you need to include any interpretations or inferences that you draw on the basis of your observations"
   ]
  },
  {
   "cell_type": "markdown",
   "metadata": {},
   "source": [
    "### Conclusions\n",
    "\n",
    "Write a summary of your most important findings"
   ]
  },
  {
   "cell_type": "markdown",
   "metadata": {},
   "source": [
    "## Question 2\n",
    "\n",
    "Repeat the previous structure...\n"
   ]
  },
  {
   "cell_type": "code",
   "execution_count": 13,
   "outputs": [
    {
     "data": {
      "text/plain": "[<matplotlib.lines.Line2D at 0x7fb7bbef0278>]"
     },
     "metadata": {},
     "output_type": "execute_result",
     "execution_count": 13
    },
    {
     "data": {
      "text/plain": "<Figure size 432x288 with 1 Axes>",
      "image/png": "[encoded data removed]"
     },
     "metadata": {
      "needs_background": "light"
     },
     "output_type": "display_data"
    }
   ],
   "source": [
    "import numpy as np\n",
    "import matplotlib.pyplot as plt\n",
    "\n",
    "\n",
    "def coefs(x, y):\n",
    "\n",
    "    a = y\n",
    "\n",
    "    for k in range(1, x.size):\n",
    "\n",
    "        for i in range(0, k):\n",
    "\n",
    "            a[k] = ((a[k]-a[i])/(x[k]-x[i]))\n",
    "\n",
    "    return a\n",
    "\n",
    "\n",
    "\n",
    "\n",
    "def evalp(a, x, z):\n",
    "\n",
    "    n = a.size-1\n",
    "    s = a[n]\n",
    "\n",
    "    for i in range(n-1, -1, -1):\n",
    "        s = a[i]+((z - x[i])*s)\n",
    "\n",
    "    return s\n",
    "\n",
    "\n",
    "func_1 = lambda x: np.sin(x)\n",
    "\n",
    "\n",
    "x = np.linspace(0, 2*np.pi, 6)\n",
    "x1 = np.linspace(0, 2*np.pi, 101)\n",
    "y = func_1(x)\n",
    "y1 = func_1(x1)\n",
    "memes = coefs(x, y)\n",
    "y2 = evalp(memes, x, x1)\n",
    "\n",
    "plt.plot(x1,y1)\n",
    "plt.plot(x1, y2)"
   ],
   "metadata": {
    "collapsed": false,
    "pycharm": {
     "name": "#%%\n",
     "is_executing": false
    }
   }
  },
  {
   "cell_type": "code",
   "execution_count": null,
   "outputs": [],
   "source": [
    "\n"
   ],
   "metadata": {
    "collapsed": false,
    "pycharm": {
     "name": "#%%\n"
    }
   }
  }
 ],
 "metadata": {
  "kernelspec": {
   "display_name": "Python 3",
   "language": "python",
   "name": "python3"
  },
  "language_info": {
   "codemirror_mode": {
    "name": "ipython",
    "version": 3
   },
   "file_extension": ".py",
   "mimetype": "text/x-python",
   "name": "python",
   "nbconvert_exporter": "python",
   "pygments_lexer": "ipython3",
   "version": "3.6.1"
  },
  "pycharm": {
   "stem_cell": {
    "cell_type": "raw",
    "source": [],
    "metadata": {
     "collapsed": false
    }
   }
  }
 },
 "nbformat": 4,
 "nbformat_minor": 2
}