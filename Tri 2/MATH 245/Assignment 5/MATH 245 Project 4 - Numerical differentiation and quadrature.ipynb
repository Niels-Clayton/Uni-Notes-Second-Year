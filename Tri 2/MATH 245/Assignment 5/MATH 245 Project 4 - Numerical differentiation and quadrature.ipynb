{
 "cells": [
  {
   "cell_type": "markdown",
   "metadata": {},
   "source": [
    "\\centerline{\\textbf{ Niels Clayton - 300437590}}"
   ]
  },
  {
   "cell_type": "markdown",
   "metadata": {},
   "source": [
    "# Question 1\n",
    "\n",
    "## Introduction\n",
    "\n",
    "Import the matrix from the \"matrix.mtx\" file.\n",
    "\n",
    "## Procedure\n",
    "\n",
    "using the scipy.io.mmread() function, we import the matrix\n",
    "from the \"matrix.mtx\" file, and then we convert it to a\n",
    "numpy array for ease of use. \n"
   ]
  },
  {
   "cell_type": "code",
   "execution_count": 1,
   "metadata": {
    "pycharm": {
     "is_executing": false,
     "name": "#%% \n"
    }
   },
   "outputs": [],
   "source": [
    "from _curses import error\n",
    "import numpy as np\n",
    "import matplotlib.pyplot as plt\n",
    "import scipy.io as sci\n"
   ]
  },
  {
   "cell_type": "code",
   "execution_count": 2,
   "outputs": [],
   "source": [
    "def load():\n",
    "    return sci.mmread(\"matrix1.mtx\").toarray()\n"
   ],
   "metadata": {
    "collapsed": false,
    "pycharm": {
     "name": "#%%\n",
     "is_executing": false
    }
   }
  },
  {
   "cell_type": "code",
   "execution_count": 3,
   "outputs": [
    {
     "data": {
      "text/plain": "<Figure size 432x288 with 1 Axes>",
      "image/png": "[encoded data removed]"
     },
     "metadata": {
      "needs_background": "light"
     },
     "output_type": "display_data"
    }
   ],
   "source": [
    "A = load()\n",
    "plt.spy(A)\n",
    "plt.show()\n"
   ],
   "metadata": {
    "collapsed": false,
    "pycharm": {
     "name": "#%%\n",
     "is_executing": false
    }
   }
  },
  {
   "cell_type": "markdown",
   "metadata": {},
   "source": [
    "## Observations & discussion\n",
    "\n",
    "It can be observed that the file is correctly imported,\n",
    "and that the matrix plotted above is the same as the one \n",
    "from the assignment script. I have made the loading of the \n",
    "file into a function so that it can be loaded more easily\n",
    "since it must be loaded multiple times.\n",
    "\n",
    "## Conclusions\n",
    "\n",
    "The loading of the file was successful.\n"
   ]
  },
  {
   "cell_type": "markdown",
   "source": [
    "# Question 2\n",
    "\n",
    "\n",
    "## Introduction\n",
    "\n",
    "Implement the cholesky and band_cholesky factorisation\n",
    "algorithms in python.\n",
    "\n",
    "## Procedure\n",
    "\n",
    "Implement the chelesky factorisation algorithm, taking in the matrix \n",
    "as argument A\n"
   ],
   "metadata": {
    "collapsed": false
   }
  },
  {
   "cell_type": "code",
   "execution_count": 4,
   "outputs": [],
   "source": [
    "def cholesky(A1):\n",
    "    A = A1.copy()\n",
    "    n = len(A)\n",
    "\n",
    "    for i in range(n):\n",
    "\n",
    "        try:\n",
    "            A[i, i] = np.sqrt(A[i, i] - np.dot(A[i, 0:i], A[i, 0:i]))\n",
    "        except ValueError:\n",
    "            error.err('Matrix is not positive definite')\n",
    "\n",
    "\n",
    "        for j in range(i + 1, n):\n",
    "            A[j, i] = (A[j, i] - np.dot(A[j, 0:i], A[i, 0:i])) / A[i, i]\n",
    "\n",
    "    for k in range(1, n):\n",
    "        A[0:k, k] = 0.0\n",
    "\n",
    "    return A\n"
   ],
   "metadata": {
    "collapsed": false,
    "pycharm": {
     "name": "#%% \n",
     "is_executing": false
    }
   }
  },
  {
   "cell_type": "markdown",
   "source": [
    "Implement the band_chelesky factorisation algorithm, taking in the matrix \n",
    "as argument A, and the bandwidth of the matrix p"
   ],
   "metadata": {
    "collapsed": false,
    "pycharm": {
     "name": "#%% md\n"
    }
   }
  },
  {
   "cell_type": "code",
   "execution_count": 5,
   "outputs": [],
   "source": [
    "def band_cholesky(A1, p):\n",
    "    A = A1.copy()\n",
    "    test = A1.copy()\n",
    "    n = len(A)\n",
    "\n",
    "    for j in range(n):\n",
    "        \n",
    "        try:\n",
    "            test[j, j] = np.sqrt(abs(test[j, j] - np.dot(test[j, 0:j], test[j, 0:j])))\n",
    "        except ValueError:\n",
    "            error.err('Matrix is not positive definite')\n",
    "\n",
    "\n",
    "        for k in range( max(0, j-p), j):\n",
    "            λ = min(k+p, n-1)\n",
    "            A[j:λ+1, j] = A[j:λ+1, j] - np.dot(A[j, k], A[j:λ+1, k])\n",
    "\n",
    "        λ = min(j+p, n-1)\n",
    "        A[j:λ+1, j] = A[j:λ+1, j] / np.sqrt(abs(A[j,j]))\n",
    "\n",
    "    for k in range(1, n):\n",
    "        A[0:k, k] = 0.0\n",
    "\n",
    "    return A\n"
   ],
   "metadata": {
    "collapsed": false,
    "pycharm": {
     "name": "#%%\n",
     "is_executing": false
    }
   }
  },
  {
   "cell_type": "markdown",
   "metadata": {
    "pycharm": {
     "name": "#%% md\n"
    }
   },
   "source": [
    "## Observations & Discussion\n",
    "\n",
    "These functions are quite similar in principle, with the main \n",
    "difference being that the band_cholesky function will only compute the \n",
    "values within the  given band denoted by the input parameter p. This \n",
    "results in the removal of redundant calculation, resulting in a less\n",
    "computationally intensive algorithm.\n",
    "\n",
    "## Conclusions\n",
    "\n",
    "It can be concluded that the two algorithms will produce very similar \n",
    "results, however the band_cholesky algorithm will be more efficient in\n",
    "its calculations.\n",
    "\n"
   ]
  },
  {
   "cell_type": "markdown",
   "source": [
    "# Question 3\n",
    "\n",
    "\n",
    "## Introduction\n",
    "\n",
    "In question 3 we will use the functions implemented in in part 2 to factorise the matrix \n",
    "loaded in in part 1. We will compare the  output of these factorisations using the \n",
    "cholesky, band_cholesky, and the numpy.linalg.cholesky algorithms. We will then \n",
    "attempt to transform them back to the original matrix using the property $A = LL^T$. \n",
    "we will then look at the overall error produced by each of these functions when compared to \n",
    "the original matrix. \n",
    "\n",
    "## Procedure\n",
    "\n",
    "Define an inverse function to calculate A from L using $A = LL^T$.\n"
   ],
   "metadata": {
    "collapsed": false
   }
  },
  {
   "cell_type": "code",
   "execution_count": 6,
   "outputs": [],
   "source": [
    "\n",
    "def inverse_cholesky(L1):\n",
    "    L = L1.copy()\n",
    "    L_T = np.transpose(L)\n",
    "    return np.matmul(L, L_T)\n"
   ],
   "metadata": {
    "collapsed": false,
    "pycharm": {
     "name": "#%%\n",
     "is_executing": false
    }
   }
  },
  {
   "cell_type": "markdown",
   "source": [
    "\n",
    "Plot the outputs the factorisation using each algorithm, and then plot what A is after\n",
    "inverting the calculation along with the total error.\n"
   ],
   "metadata": {
    "collapsed": false
   }
  },
  {
   "cell_type": "code",
   "execution_count": 9,
   "outputs": [
    {
     "data": {
      "text/plain": "<Figure size 432x288 with 1 Axes>",
      "image/png": "[encoded data removed]"
     },
     "metadata": {
      "needs_background": "light"
     },
     "output_type": "display_data"
    },
    {
     "data": {
      "text/plain": "<Figure size 432x288 with 1 Axes>",
      "image/png": "[encoded data removed]"
     },
     "metadata": {
      "needs_background": "light"
     },
     "output_type": "display_data"
    },
    {
     "data": {
      "text/plain": "<Figure size 432x288 with 1 Axes>",
      "image/png": "[encoded data removed]"
     },
     "metadata": {
      "needs_background": "light"
     },
     "output_type": "display_data"
    }
   ],
   "source": [
    "\n",
    "L1 = cholesky(A)\n",
    "L2 = band_cholesky(A,48)\n",
    "L3 = np.linalg.cholesky(A)\n",
    "\n",
    "plt.spy(L1)\n",
    "plt.title(\"Implemented cholesky algorithim\")\n",
    "plt.show()\n",
    "\n",
    "plt.spy(L2)\n",
    "plt.title(\"Implemented band_cholesky algorithim\")\n",
    "plt.show()\n",
    "\n",
    "plt.spy(L3)\n",
    "plt.title(\"numpy.linalg cholesky algorithim\")\n",
    "plt.show()\n"
   ],
   "metadata": {
    "collapsed": false,
    "pycharm": {
     "name": "#%%\n",
     "is_executing": false
    }
   }
  },
  {
   "cell_type": "markdown",
   "source": [],
   "metadata": {
    "collapsed": false,
    "pycharm": {
     "name": "#%% md\n"
    }
   }
  },
  {
   "cell_type": "code",
   "execution_count": 10,
   "outputs": [
    {
     "data": {
      "text/plain": "<Figure size 432x288 with 1 Axes>",
      "image/png": "[encoded data removed]"
     },
     "metadata": {
      "needs_background": "light"
     },
     "output_type": "display_data"
    },
    {
     "data": {
      "text/plain": "<Figure size 432x288 with 1 Axes>",
      "image/png": "[encoded data removed]"
     },
     "metadata": {
      "needs_background": "light"
     },
     "output_type": "display_data"
    },
    {
     "data": {
      "text/plain": "<Figure size 432x288 with 1 Axes>",
      "image/png": "[encoded data removed]"
     },
     "metadata": {
      "needs_background": "light"
     },
     "output_type": "display_data"
    },
    {
     "name": "stdout",
     "text": [
      "error relative to original matrix of cholesky:           -5.960464477539063e-08\nerror relative to original matrix of band_cholesky:      -5.960464477539063e-08\nerror relative to original matrix of np.linalg.cholesky: -5.960464477539063e-08\n"
     ],
     "output_type": "stream"
    }
   ],
   "source": [
    "\n",
    "L1_inverse = inverse_cholesky(L1)\n",
    "L2_inverse = inverse_cholesky(L2)\n",
    "L3_inverse = inverse_cholesky(L3)\n",
    "\n",
    "plt.spy(L1_inverse)\n",
    "plt.title(\"Inverse of Implemented cholesky algorithim\")\n",
    "plt.show()\n",
    "error1 = abs(abs(np.sum(A))-abs(np.sum(L1_inverse)))\n",
    "\n",
    "\n",
    "plt.spy(L2_inverse)\n",
    "plt.title(\"Inverse of Implemented band_cholesky algorithim\")\n",
    "plt.show()\n",
    "error2 = abs(abs(np.sum(A))-abs(np.sum(L2_inverse)))\n",
    "\n",
    "\n",
    "plt.spy(L3_inverse)\n",
    "plt.title(\"Inverse of numpt.linalg algorithim\")\n",
    "plt.show()\n",
    "error3 = abs(abs(np.sum(A))-abs(np.sum(L3_inverse)))\n",
    "\n",
    "print(\"error relative to original matrix of cholesky:           {}\".format(error1))\n",
    "print(\"error relative to original matrix of band_cholesky:      {}\".format(error2))\n",
    "print(\"error relative to original matrix of np.linalg.cholesky: {}\".format(error3))\n"
   ],
   "metadata": {
    "collapsed": false,
    "pycharm": {
     "name": "#%%\n",
     "is_executing": false
    }
   }
  },
  {
   "cell_type": "markdown",
   "source": [
    "## Observations & Discussion\n",
    "\n",
    "It can be observed that the results of the factorisation using the different \n",
    "methods are all near identical, however when using $A  = LL^T$ to go back to the \n",
    "original matrix it can be seen that there appears to be quite drastic differences\n",
    "between the results. However when looking at the overall error between the calculations\n",
    "and the original matrix, it can be seen that they all have identical errors \n",
    "of magnitude $10^{-8}$. Because of this we can identify that the differences in appearance\n",
    "between the methods is due to floating point errors in the matrix due to the calculations.\n",
    "The 'spy()' function  will plot the contents of an array on a 2D plain, plotting only if a \n",
    "value is 0 or non-zero, this will result in all the float errors of magnitude $10^{-34}$\n",
    "being plotted on the graph, even though they contribute very little to the matrix.\n",
    "\n",
    "## Conclusions\n",
    "\n",
    "It can be concluded that all 3 algorithms work correctly, and will successfully factorise \n",
    "the matrix, with the exact same amount of error. It can also be assumed that the \n",
    "band_cholesky algorithm will be more efficient than the other's as it will do fewer \n",
    "computations.\n",
    "\n",
    "\n",
    "# Question 4\n",
    "\n",
    "## Introduction\n",
    "\n",
    "\n",
    "\n",
    "## Procedure\n"
   ],
   "metadata": {
    "collapsed": false,
    "pycharm": {
     "name": "#%% md\n"
    }
   }
  },
  {
   "cell_type": "code",
   "execution_count": 11,
   "outputs": [],
   "source": [
    "def matrix_solution(a1):\n",
    "    n = len(a1)\n",
    "    b = []\n",
    "    a = a1.copy()\n",
    "\n",
    "    for i in range(n):\n",
    "        b.append(sum(a[i]))\n",
    "    return np.asarray(b)\n",
    "\n",
    "def findError(b):\n",
    "    n = len(b)\n",
    "    exact = np.ones(n)\n",
    "    print(np.linalg.norm(b-exact))\n",
    "\n"
   ],
   "metadata": {
    "collapsed": false,
    "pycharm": {
     "name": "#%%\n",
     "is_executing": false
    }
   }
  },
  {
   "cell_type": "code",
   "execution_count": 12,
   "outputs": [],
   "source": [
    "def forward_sub(A, b, p):\n",
    "    n = len(A)\n",
    "\n",
    "    for j in range(n):\n",
    "        λ = min(j + p , n)\n",
    "        b[j] = b[j]/A[j,j]\n",
    "        b[j+1:λ] = b[j+1:λ] - A[j+1:λ,j]*b[j]\n",
    "    return b\n",
    "\n",
    "def backward_sub(A1, b, p):\n",
    "    n = len(b)\n",
    "    A = A1.copy()\n",
    "\n",
    "    for j in range(n-1, -1, -1):\n",
    "        λ = max(0, j - p)\n",
    "        b[j] = b[j] / A[j, j]\n",
    "        b[λ:j] = b[λ:j] - (np.transpose(A[j,λ:j])*b[j])\n",
    "    return b\n"
   ],
   "metadata": {
    "collapsed": false,
    "pycharm": {
     "name": "#%%\n",
     "is_executing": false
    }
   }
  },
  {
   "cell_type": "code",
   "execution_count": 14,
   "outputs": [],
   "source": [
    "def solve(l, b):\n",
    "    n = len(b)\n",
    "\n",
    "    # solution of ly=b\n",
    "\n",
    "    for k in range(n):\n",
    "        b[k] = (b[k] - np.dot(l[k, 0:k], b[0:k])) / l[k, k]\n",
    "\n",
    "    # solution of l^t x =y\n",
    "\n",
    "    for k in range(n - 1, -1, -1):\n",
    "        b[k] = (b[k] - np.dot(l[k + 1:n, k], b[k + 1:n])) / l[k, k]\n",
    "\n",
    "    return b\n"
   ],
   "metadata": {
    "collapsed": false,
    "pycharm": {
     "name": "#%%\n",
     "is_executing": false
    }
   }
  },
  {
   "cell_type": "code",
   "execution_count": 16,
   "outputs": [
    {
     "name": "stdout",
     "text": [
      "1.394729564515682e-12\n2.459949433441565e-12\n"
     ],
     "output_type": "stream"
    }
   ],
   "source": [
    "def band_solve(A1, b1, p):\n",
    "    A = A1.copy()\n",
    "    b = b1.copy()\n",
    "\n",
    "    forward_sub(A, b, p)\n",
    "    backward_sub(A, b, p)\n",
    "    return b\n",
    "\n",
    "\n",
    "A = load()\n",
    "l = band_cholesky(A, 48)\n",
    "b = matrix_solution(A)\n",
    "\n",
    "x = band_solve(l, b, 48)\n",
    "findError(x)\n",
    "\n",
    "x = solve(l, b)\n",
    "findError(x)"
   ],
   "metadata": {
    "collapsed": false,
    "pycharm": {
     "name": "#%%\n",
     "is_executing": false
    }
   }
  }
 ],
 "metadata": {
  "kernelspec": {
   "name": "pycharm-e837d807",
   "language": "python",
   "display_name": "PyCharm (Assignment 5)"
  },
  "language_info": {
   "codemirror_mode": {
    "name": "ipython",
    "version": 3
   },
   "file_extension": ".py",
   "mimetype": "text/x-python",
   "name": "python",
   "nbconvert_exporter": "python",
   "pygments_lexer": "ipython3",
   "version": "3.7.3"
  },
  "pycharm": {
   "stem_cell": {
    "cell_type": "raw",
    "source": [],
    "metadata": {
     "collapsed": false
    }
   }
  }
 },
 "nbformat": 4,
 "nbformat_minor": 2
}