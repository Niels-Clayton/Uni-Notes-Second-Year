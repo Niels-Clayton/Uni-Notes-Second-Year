{
 "cells": [
  {
   "cell_type": "markdown",
   "metadata": {},
   "source": [
    "\\centerline{\\textbf{ Niels Clayton - 300437590}}"
   ]
  },
  {
   "cell_type": "markdown",
   "metadata": {},
   "source": [
    "# Question 1\n",
    "\n",
    "## Introduction\n",
    "\n",
    "Import the matrix from the \"matrix.mtx\" file.\n",
    "\n",
    "## Procedure\n",
    "\n",
    "using the scipy.io.mmread() function, we import the matrix\n",
    "from the \"matrix.mtx\" file, and then we convert it to a\n",
    "numpy array for ease of use. \n"
   ]
  },
  {
   "cell_type": "code",
   "execution_count": 1,
   "metadata": {
    "pycharm": {
     "is_executing": false,
     "name": "#%% \n"
    }
   },
   "outputs": [],
   "source": [
    "import numpy as np\n",
    "import matplotlib.pyplot as plt\n",
    "import scipy.io as sci\n"
   ]
  },
  {
   "cell_type": "code",
   "execution_count": 2,
   "outputs": [],
   "source": [
    "def load():\n",
    "    return sci.mmread(\"matrix1.mtx\").toarray()\n"
   ],
   "metadata": {
    "collapsed": false,
    "pycharm": {
     "name": "#%%\n",
     "is_executing": false
    }
   }
  },
  {
   "cell_type": "code",
   "execution_count": 3,
   "outputs": [
    {
     "data": {
      "text/plain": "<Figure size 432x288 with 1 Axes>",
      "image/png": "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\n"
     },
     "metadata": {
      "needs_background": "light"
     },
     "output_type": "display_data"
    }
   ],
   "source": [
    "A = load()\n",
    "plt.spy(A)\n",
    "plt.show()\n"
   ],
   "metadata": {
    "collapsed": false,
    "pycharm": {
     "name": "#%%\n",
     "is_executing": false
    }
   }
  },
  {
   "cell_type": "markdown",
   "metadata": {},
   "source": [
    "## Observations & discussion\n",
    "\n",
    "It can be observed that the file is correctly imported,\n",
    "and that the matrix plotted above is the same as the one \n",
    "from the assignment script. I have made the loading of the \n",
    "file into a function so that it can be loaded more easily\n",
    "since it must be loaded multiple times.\n",
    "\n",
    "## Conclusions\n",
    "\n",
    "The loading of the file was successful.\n"
   ]
  },
  {
   "cell_type": "markdown",
   "source": [
    "# Question 2\n",
    "\n",
    "\n",
    "## Introduction\n",
    "\n",
    "Implement the cholesky and band_cholesky factorisation\n",
    "algorithms in python.\n",
    "\n",
    "## Procedure\n",
    "\n",
    "Implement the chelesky factorisation algorithm, taking in the matrix \n",
    "as argument A\n"
   ],
   "metadata": {
    "collapsed": false
   }
  },
  {
   "cell_type": "code",
   "execution_count": 4,
   "outputs": [],
   "source": [
    "def cholesky(A1):\n",
    "    A = A1.copy()\n",
    "    n = len(A)\n",
    "\n",
    "    for i in range(n):\n",
    "\n",
    "        try:\n",
    "            A[i, i] = np.sqrt(A[i, i] - np.dot(A[i, 0:i], A[i, 0:i]))\n",
    "        except ValueError:\n",
    "            error.err('Matrix is not positive definite')\n",
    "\n",
    "\n",
    "        for j in range(i + 1, n):\n",
    "            A[j, i] = (A[j, i] - np.dot(A[j, 0:i], A[i, 0:i])) / A[i, i]\n",
    "\n",
    "    for k in range(1, n):\n",
    "        A[0:k, k] = 0.0\n",
    "\n",
    "    return A\n"
   ],
   "metadata": {
    "collapsed": false,
    "pycharm": {
     "name": "#%% \n",
     "is_executing": false
    }
   }
  },
  {
   "cell_type": "markdown",
   "source": [
    "Implement the band_chelesky factorisation algorithm, taking in the matrix \n",
    "as argument A, and the bandwidth of the matrix p"
   ],
   "metadata": {
    "collapsed": false,
    "pycharm": {
     "name": "#%% md\n"
    }
   }
  },
  {
   "cell_type": "code",
   "execution_count": 5,
   "outputs": [],
   "source": [
    "def band_cholesky(A1, p):\n",
    "    A = A1.copy()\n",
    "    test = A1.copy()\n",
    "    n = len(A)\n",
    "\n",
    "    for j in range(n):\n",
    "        \n",
    "        try:\n",
    "            test[j, j] = np.sqrt(abs(test[j, j] - np.dot(test[j, 0:j], test[j, 0:j])))\n",
    "        except ValueError:\n",
    "            error.err('Matrix is not positive definite')\n",
    "\n",
    "\n",
    "        for k in range( max(0, j-p), j):\n",
    "            λ = min(k+p, n-1)\n",
    "            A[j:λ+1, j] = A[j:λ+1, j] - np.dot(A[j, k], A[j:λ+1, k])\n",
    "\n",
    "        λ = min(j+p, n-1)\n",
    "        A[j:λ+1, j] = A[j:λ+1, j] / np.sqrt(abs(A[j,j]))\n",
    "\n",
    "    for k in range(1, n):\n",
    "        A[0:k, k] = 0.0\n",
    "\n",
    "    return A\n"
   ],
   "metadata": {
    "collapsed": false,
    "pycharm": {
     "name": "#%%\n",
     "is_executing": false
    }
   }
  },
  {
   "cell_type": "markdown",
   "metadata": {
    "pycharm": {
     "name": "#%% md\n"
    }
   },
   "source": [
    "## Observations & Discussion\n",
    "\n",
    "These functions are quite similar in principle, with the main \n",
    "difference being that the band_cholesky function will only compute the \n",
    "values within the  given band denoted by the input parameter p. This \n",
    "results in the removal of redundant calculation, resulting in a less\n",
    "computationally intensive algorithm.\n",
    "\n",
    "## Conclusions\n",
    "\n",
    "It can be concluded that the two algorithms will produce very similar \n",
    "results, however the band_cholesky algorithm will be more efficient in\n",
    "its calculations.\n",
    "\n"
   ]
  },
  {
   "cell_type": "markdown",
   "source": [
    "# Question 3\n",
    "\n",
    "\n",
    "## Introduction\n",
    "\n",
    "In question 3 we will use the functions implemented in in part 2 to factorise the matrix \n",
    "loaded in in part 1. We will compare the  output of these factorisations using the \n",
    "cholesky, band_cholesky, and the numpy.linalg.cholesky algorithms. We will then \n",
    "attempt to transform them back to the original matrix using the property $A = LL^T$. \n",
    "we will then look at the overall error produced by each of these functions when compared to \n",
    "the original matrix. \n",
    "\n",
    "## Procedure\n",
    "\n",
    "Define an inverse function to calculate A from L using $A = LL^T$.\n"
   ],
   "metadata": {
    "collapsed": false
   }
  },
  {
   "cell_type": "code",
   "execution_count": 2,
   "outputs": [],
   "source": [
    "\n",
    "def inverse_cholesky(L1):\n",
    "    L = L1.copy()\n",
    "    L_T = np.transpose(L)\n",
    "    return np.matmul(L, L_T)\n"
   ],
   "metadata": {
    "collapsed": false,
    "pycharm": {
     "name": "#%%\n",
     "is_executing": false
    }
   }
  },
  {
   "cell_type": "markdown",
   "source": [
    "\n",
    "Plot the outputs the factorisation using each algorithm, and then plot what A is after\n",
    "inverting the calculation along with the total error.\n"
   ],
   "metadata": {
    "collapsed": false
   }
  },
  {
   "cell_type": "code",
   "execution_count": 9,
   "outputs": [
    {
     "data": {
      "text/plain": "<Figure size 432x288 with 1 Axes>",
      "image/png": "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\n"
     },
     "metadata": {
      "needs_background": "light"
     },
     "output_type": "display_data"
    },
    {
     "data": {
      "text/plain": "<Figure size 432x288 with 1 Axes>",
      "image/png": "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\n"
     },
     "metadata": {
      "needs_background": "light"
     },
     "output_type": "display_data"
    },
    {
     "data": {
      "text/plain": "<Figure size 432x288 with 1 Axes>",
      "image/png": "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\n"
     },
     "metadata": {
      "needs_background": "light"
     },
     "output_type": "display_data"
    }
   ],
   "source": [
    "\n",
    "L1 = cholesky(A)\n",
    "L2 = band_cholesky(A,48)\n",
    "L3 = np.linalg.cholesky(A)\n",
    "\n",
    "plt.spy(L1)\n",
    "plt.title(\"Implemented cholesky algorithim\")\n",
    "plt.show()\n",
    "\n",
    "plt.spy(L2)\n",
    "plt.title(\"Implemented band_cholesky algorithim\")\n",
    "plt.show()\n",
    "\n",
    "plt.spy(L3)\n",
    "plt.title(\"numpy.linalg cholesky algorithim\")\n",
    "plt.show()\n"
   ],
   "metadata": {
    "collapsed": false,
    "pycharm": {
     "name": "#%%\n",
     "is_executing": false
    }
   }
  },
  {
   "cell_type": "markdown",
   "source": [],
   "metadata": {
    "collapsed": false,
    "pycharm": {
     "name": "#%% md\n"
    }
   }
  },
  {
   "cell_type": "code",
<<<<<<< HEAD
   "execution_count": 10,
=======
   "execution_count": 3,
>>>>>>> e7f34ccdf7db7e29afa1359804b9c2265215567e
   "outputs": [
    {
     "traceback": [
      "\u001b[1;31m---------------------------------------------------------------------------\u001b[0m",
      "\u001b[1;31mNameError\u001b[0m                                 Traceback (most recent call last)",
      "\u001b[1;32m<ipython-input-3-0b442ef4e983>\u001b[0m in \u001b[0;36m<module>\u001b[1;34m\u001b[0m\n\u001b[1;32m----> 1\u001b[1;33m \u001b[0mL1_inverse\u001b[0m \u001b[1;33m=\u001b[0m \u001b[0minverse_cholesky\u001b[0m\u001b[1;33m(\u001b[0m\u001b[0mL1\u001b[0m\u001b[1;33m)\u001b[0m\u001b[1;33m\u001b[0m\u001b[1;33m\u001b[0m\u001b[0m\n\u001b[0m\u001b[0;32m      2\u001b[0m \u001b[0mL2_inverse\u001b[0m \u001b[1;33m=\u001b[0m \u001b[0minverse_cholesky\u001b[0m\u001b[1;33m(\u001b[0m\u001b[0mL2\u001b[0m\u001b[1;33m)\u001b[0m\u001b[1;33m\u001b[0m\u001b[1;33m\u001b[0m\u001b[0m\n\u001b[0;32m      3\u001b[0m \u001b[0mL3_inverse\u001b[0m \u001b[1;33m=\u001b[0m \u001b[0minverse_cholesky\u001b[0m\u001b[1;33m(\u001b[0m\u001b[0mL3\u001b[0m\u001b[1;33m)\u001b[0m\u001b[1;33m\u001b[0m\u001b[1;33m\u001b[0m\u001b[0m\n\u001b[0;32m      4\u001b[0m \u001b[1;33m\u001b[0m\u001b[0m\n\u001b[0;32m      5\u001b[0m \u001b[0mplt\u001b[0m\u001b[1;33m.\u001b[0m\u001b[0mspy\u001b[0m\u001b[1;33m(\u001b[0m\u001b[0mL1_inverse\u001b[0m\u001b[1;33m)\u001b[0m\u001b[1;33m\u001b[0m\u001b[1;33m\u001b[0m\u001b[0m\n",
      "\u001b[1;31mNameError\u001b[0m: name 'L1' is not defined"
     ],
     "ename": "NameError",
     "evalue": "name 'L1' is not defined",
     "output_type": "error"
    }
   ],
   "source": [
    "\n",
    "L1_inverse = inverse_cholesky(L1)\n",
    "L2_inverse = inverse_cholesky(L2)\n",
    "L3_inverse = inverse_cholesky(L3)\n",
    "\n",
    "plt.spy(L1_inverse)\n",
    "plt.title(\"Inverse of Implemented cholesky algorithim\")\n",
    "plt.show()\n",
    "error1 = abs(np.sum(A))-abs(np.sum(L1_inverse))\n",
    "\n",
    "\n",
    "plt.spy(L2_inverse)\n",
    "plt.title(\"Inverse of Implemented band_cholesky algorithim\")\n",
    "plt.show()\n",
    "error2 = abs(np.sum(A))-abs(np.sum(L2_inverse))\n",
    "\n",
    "\n",
    "plt.spy(L3_inverse)\n",
    "plt.title(\"Inverse of numpt.linalg algorithim\")\n",
    "plt.show()\n",
    "error3 = abs(np.sum(A))-abs(np.sum(L3_inverse))\n",
    "\n",
    "print(\"error relative to original matrix of cholesky:           {}\".format(error1))\n",
    "print(\"error relative to original matrix of band_cholesky:      {}\".format(error2))\n",
    "print(\"error relative to original matrix of np.linalg.cholesky: {}\".format(error3))\n"
   ],
   "metadata": {
    "collapsed": false,
    "pycharm": {
     "name": "#%%\n",
     "is_executing": false
    }
   }
  },
  {
   "cell_type": "markdown",
   "source": [
    "## Observations & Discussion\n",
    "\n",
    "It can be observed that the results of the factorisation using the different \n",
    "methods are all near identical, however when using $A  = LL^T$ to go back to the \n",
    "original matrix it can be seen that there appears to be quite drastic differences\n",
    "between the results. However when looking at the overall error between the calculations\n",
    "and the original matrix, it can be seen that they all have identical errors \n",
    "of magnitude $10^{-8}$. Because of this we can identify that the differences in appearance\n",
    "between the methods is due to floating point errors in the matrix due to the calculations.\n",
    "The 'spy()' function  will plot the contents of an array on a 2D plain, plotting only if a \n",
    "value is 0 or non-zero, this will result in all the float errors of magnitude $10^{-34}$\n",
    "being plotted on the graph, even though they contribute very little to the matrix.\n",
    "\n",
    "## Conclusions\n",
    "\n",
    "It can be concluded that all 3 algorithms work correctly, and will successfully factorise \n",
    "the matrix, with the exact same amount of error. It can also be assumed that the \n",
    "band_cholesky algorithm will be more efficient than the other's as it will do fewer \n",
    "computations.\n",
    "\n",
    "\n",
    "# Question 4\n",
    "\n",
    "## Introduction\n",
    "\n",
    "\n",
    "\n",
    "## Procedure\n"
   ],
   "metadata": {
    "collapsed": false,
    "pycharm": {
     "name": "#%% md\n"
    }
   }
  },
  {
   "cell_type": "code",
   "execution_count": 11,
   "outputs": [],
   "source": [
    "def matrix_solution(a1):\n",
    "    n = len(a1)\n",
    "    b = []\n",
    "    a = a1.copy()\n",
    "\n",
    "    for i in range(n):\n",
    "        b.append(sum(a[i]))\n",
    "    return np.asarray(b)\n",
    "\n",
    "def findError(b):\n",
    "    n = len(b)\n",
    "    exact = np.ones(n)\n",
    "    print(np.linalg.norm(b-exact))\n",
    "\n"
   ],
   "metadata": {
    "collapsed": false,
    "pycharm": {
     "name": "#%%\n",
     "is_executing": false
    }
   }
  },
  {
   "cell_type": "code",
   "execution_count": 12,
   "outputs": [],
   "source": [
    "def forward_sub(A, b, p):\n",
    "    n = len(A)\n",
    "\n",
    "    for j in range(n):\n",
    "        λ = min(j + p , n)\n",
    "        b[j] = b[j]/A[j,j]\n",
    "        b[j+1:λ] = b[j+1:λ] - A[j+1:λ,j]*b[j]\n",
    "    return b\n",
    "\n",
    "def backward_sub(A1, b, p):\n",
    "    n = len(b)\n",
    "    A = A1.copy()\n",
    "\n",
    "    for j in range(n-1, -1, -1):\n",
    "        λ = max(0, j - p)\n",
    "        b[j] = b[j] / A[j, j]\n",
    "        b[λ:j] = b[λ:j] - (np.transpose(A[j,λ:j])*b[j])\n",
    "    return b\n"
   ],
   "metadata": {
    "collapsed": false,
    "pycharm": {
     "name": "#%%\n",
     "is_executing": false
    }
   }
  },
  {
   "cell_type": "code",
   "execution_count": 14,
   "outputs": [],
   "source": [
    "def solve(l, b):\n",
    "    n = len(b)\n",
    "\n",
    "    # solution of ly=b\n",
    "\n",
    "    for k in range(n):\n",
    "        b[k] = (b[k] - np.dot(l[k, 0:k], b[0:k])) / l[k, k]\n",
    "\n",
    "    # solution of l^t x =y\n",
    "\n",
    "    for k in range(n - 1, -1, -1):\n",
    "        b[k] = (b[k] - np.dot(l[k + 1:n, k], b[k + 1:n])) / l[k, k]\n",
    "\n",
    "    return b\n"
   ],
   "metadata": {
    "collapsed": false,
    "pycharm": {
     "name": "#%%\n",
     "is_executing": false
    }
   }
  },
  {
   "cell_type": "code",
   "execution_count": 16,
   "outputs": [
    {
     "name": "stdout",
     "text": [
      "1.394729564515682e-12\n2.459949433441565e-12\n"
     ],
     "output_type": "stream"
    }
   ],
   "source": [
    "def band_solve(A1, b1, p):\n",
    "    A = A1.copy()\n",
    "    b = b1.copy()\n",
    "\n",
    "    forward_sub(A, b, p)\n",
    "    backward_sub(A, b, p)\n",
    "    return b\n",
    "\n",
    "\n",
    "A = load()\n",
    "l = band_cholesky(A, 48)\n",
    "b = matrix_solution(A)\n",
    "\n",
    "x = band_solve(l, b, 48)\n",
    "findError(x)\n",
    "\n",
    "x = solve(l, b)\n",
    "findError(x)"
   ],
   "metadata": {
    "collapsed": false,
    "pycharm": {
     "name": "#%%\n",
     "is_executing": false
    }
   }
  }
 ],
 "metadata": {
  "kernelspec": {
   "name": "python3",
   "language": "python",
   "display_name": "Python 3"
  },
  "language_info": {
   "codemirror_mode": {
    "name": "ipython",
    "version": 3
   },
   "file_extension": ".py",
   "mimetype": "text/x-python",
   "name": "python",
   "nbconvert_exporter": "python",
   "pygments_lexer": "ipython3",
   "version": "3.7.3"
  },
  "pycharm": {
   "stem_cell": {
    "cell_type": "raw",
    "source": [],
    "metadata": {
     "collapsed": false
    }
   }
  }
 },
 "nbformat": 4,
 "nbformat_minor": 2
}