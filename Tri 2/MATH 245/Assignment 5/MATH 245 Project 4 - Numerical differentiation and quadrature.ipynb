{
 "cells": [
  {
   "cell_type": "markdown",
   "metadata": {},
   "source": [
    "\\centerline{\\textbf{ Niels Clayton - 300437590}}"
   ]
  },
  {
   "cell_type": "markdown",
   "metadata": {},
   "source": [
    "# Question 1\n",
    "\n",
    "## Introduction\n",
    "\n",
    "Import the matrix from the \"matrix.mtx\" file.\n",
    "\n",
    "## Procedure\n",
    "\n",
    "using the scipy.io.mmread() function, we import the matrix\n",
    "from the \"matrix.mtx\" file, and then we convert it to a\n",
    "numpy array for ease of use. \n"
   ]
  },
  {
   "cell_type": "code",
   "execution_count": 1,
   "metadata": {
    "pycharm": {
     "is_executing": false,
     "name": "#%% \n"
    }
   },
   "outputs": [],
   "source": [
    "from _curses import error\n",
    "import numpy as np\n",
    "import matplotlib.pyplot as plt\n",
    "import scipy.io as sci\n"
   ]
  },
  {
   "cell_type": "code",
   "execution_count": 3,
   "outputs": [],
   "source": [
    "def load():\n",
    "    return sci.mmread(\"matrix1.mtx\").toarray()\n"
   ],
   "metadata": {
    "collapsed": false,
    "pycharm": {
     "name": "#%%\n",
     "is_executing": false
    }
   }
  },
  {
   "cell_type": "code",
   "execution_count": 4,
   "outputs": [
    {
     "data": {
      "text/plain": "<Figure size 432x288 with 1 Axes>",
      "image/png": "[encoded data removed]"
     },
     "metadata": {
      "needs_background": "light"
     },
     "output_type": "display_data"
    }
   ],
   "source": [
    "A = load()\n",
    "plt.spy(A)\n",
    "plt.show()\n"
   ],
   "metadata": {
    "collapsed": false,
    "pycharm": {
     "name": "#%%\n",
     "is_executing": false
    }
   }
  },
  {
   "cell_type": "markdown",
   "metadata": {},
   "source": [
    "## Observations & discussion\n",
    "\n",
    "It can be observed that the file is correctly imported,\n",
    "and that the matrix plotted above is the same as the one \n",
    "from the assignment script. I have made the loading of the \n",
    "file into a function so that it can be loaded more easily\n",
    "since it must be loaded multiple times.\n",
    "\n",
    "## Conclusions\n",
    "\n",
    "The loading of the file was successful.\n"
   ]
  },
  {
   "cell_type": "markdown",
   "source": [
    "# Question 2\n",
    "\n",
    "\n",
    "## Introduction\n",
    "\n",
    "Implement the cholesky and band_cholesky factorisation\n",
    "algorithms in python.\n",
    "\n",
    "## Procedure\n",
    "\n",
    "Implement the chelesky factorisation algorithm, taking in the matrix \n",
    "as argument A\n"
   ],
   "metadata": {
    "collapsed": false
   }
  },
  {
   "cell_type": "code",
   "execution_count": 5,
   "outputs": [],
   "source": [
    "def cholesky(A1):\n",
    "    A = A1.copy()\n",
    "    n = len(A)\n",
    "\n",
    "    for i in range(n):\n",
    "\n",
    "        try:\n",
    "            A[i, i] = np.sqrt(A[i, i] - np.dot(A[i, 0:i], A[i, 0:i]))\n",
    "        except ValueError:\n",
    "            error.err('Matrix is not positive definite')\n",
    "\n",
    "\n",
    "        for j in range(i + 1, n):\n",
    "            A[j, i] = (A[j, i] - np.dot(A[j, 0:i], A[i, 0:i])) / A[i, i]\n",
    "\n",
    "    for k in range(1, n):\n",
    "        A[0:k, k] = 0.0\n",
    "\n",
    "    return A\n"
   ],
   "metadata": {
    "collapsed": false,
    "pycharm": {
     "name": "#%% \n",
     "is_executing": false
    }
   }
  },
  {
   "cell_type": "markdown",
   "source": [
    "Implement the band_chelesky factorisation algorithm, taking in the matrix \n",
    "as argument A, and the bandwidth of the matrix p"
   ],
   "metadata": {
    "collapsed": false,
    "pycharm": {
     "name": "#%% md\n"
    }
   }
  },
  {
   "cell_type": "code",
   "execution_count": 6,
   "outputs": [],
   "source": [
    "def band_cholesky(A1, p):\n",
    "    A = A1.copy()\n",
    "    n = len(A)\n",
    "\n",
    "    for j in range(n):\n",
    "        \n",
    "        try:\n",
    "            A[j, j] = np.sqrt(A[j, j] - np.dot(A[j, 0:j], A[j, 0:j]))\n",
    "        except ValueError:\n",
    "            error.err('Matrix is not positive definite')\n",
    "\n",
    "\n",
    "        for k in range( max(0, j-p), j):\n",
    "            lam = min(k+p, n-1)\n",
    "            A[j:lam+1, j] = A[j:lam+1, j] - np.dot(A[j, k], A[j:lam+1, k])\n",
    "\n",
    "        lam = min(j+p, n-1)\n",
    "        A[j:lam+1, j] = A[j:lam+1, j] / np.sqrt(abs(A[j,j]))\n",
    "\n",
    "    for k in range(1, n):\n",
    "        A[0:k, k] = 0.0\n",
    "\n",
    "    return A\n"
   ],
   "metadata": {
    "collapsed": false,
    "pycharm": {
     "name": "#%%\n",
     "is_executing": false
    }
   }
  },
  {
   "cell_type": "markdown",
   "metadata": {
    "pycharm": {
     "name": "#%% md\n"
    }
   },
   "source": [
    "## Observations & Discussion\n",
    "\n",
    "These functions are quite similar in principle, with the main \n",
    "difference being that the band_cholesky function will only compute the \n",
    "values within the  given band denoted by the input parameter p. This \n",
    "results in the removal of redundant calculation, resulting in a less\n",
    "computationally intensive algorithm.\n",
    "\n",
    "## Conclusions\n",
    "\n",
    "It can be concluded that the two algorithms will produce very similar \n",
    "results, however the band_cholesky algorithm will be more efficient in\n",
    "its calculations.\n",
    "\n"
   ]
  },
  {
   "cell_type": "markdown",
   "source": [
    "# Question 3\n",
    "\n",
    "\n",
    "## Introduction\n",
    "\n",
    "\n",
    "\n",
    "## Procedure\n"
   ],
   "metadata": {
    "collapsed": false
   }
  },
  {
   "cell_type": "code",
   "execution_count": 7,
   "outputs": [],
   "source": [
    "\n",
    "def inverse_cholesky(L1):\n",
    "    L = L1.copy()\n",
    "    L_T = np.transpose(L)\n",
    "    return np.matmul(L, L_T)\n"
   ],
   "metadata": {
    "collapsed": false,
    "pycharm": {
     "name": "#%%\n",
     "is_executing": false
    }
   }
  },
  {
   "cell_type": "code",
   "execution_count": 9,
   "outputs": [
    {
     "name": "stderr",
     "text": [
      "/usr/lib/python3.7/site-packages/ipykernel_launcher.py:8: RuntimeWarning: invalid value encountered in sqrt\n  \n"
     ],
     "output_type": "stream"
    },
    {
     "data": {
      "text/plain": "<Figure size 432x288 with 1 Axes>",
      "image/png": "[encoded data removed]"
     },
     "metadata": {
      "needs_background": "light"
     },
     "output_type": "display_data"
    },
    {
     "data": {
      "text/plain": "<Figure size 432x288 with 1 Axes>",
      "image/png": "[encoded data removed]"
     },
     "metadata": {
      "needs_background": "light"
     },
     "output_type": "display_data"
    },
    {
     "data": {
      "text/plain": "<Figure size 432x288 with 1 Axes>",
      "image/png": "[encoded data removed]"
     },
     "metadata": {
      "needs_background": "light"
     },
     "output_type": "display_data"
    }
   ],
   "source": [
    "\n",
    "L1 = cholesky(A)\n",
    "L2 = band_cholesky(A,48)\n",
    "L3 = np.linalg.cholesky(A)\n",
    "\n",
    "plt.spy(L1)\n",
    "plt.title(\"Implemented cholesky algorithim\")\n",
    "plt.show()\n",
    "\n",
    "plt.spy(L2)\n",
    "plt.title(\"Implemented band_cholesky algorithim\")\n",
    "plt.show()\n",
    "\n",
    "plt.spy(L3)\n",
    "plt.title(\"numpy.linalg cholesky algorithim\")\n",
    "plt.show()\n"
   ],
   "metadata": {
    "collapsed": false,
    "pycharm": {
     "name": "#%%\n",
     "is_executing": false
    }
   }
  },
  {
   "cell_type": "code",
   "execution_count": 10,
   "outputs": [
    {
     "data": {
      "text/plain": "<Figure size 432x288 with 1 Axes>",
      "image/png": "[encoded data removed]"
     },
     "metadata": {
      "needs_background": "light"
     },
     "output_type": "display_data"
    },
    {
     "name": "stdout",
     "text": [
      "error relative to original matrix: -5.960464477539063e-08\n",
      "error relative to original matrix: nan\n",
      "error relative to original matrix: -5.960464477539063e-08\n"
     ],
     "output_type": "stream"
    },
    {
     "data": {
      "text/plain": "<Figure size 432x288 with 1 Axes>",
      "image/png": "[encoded data removed]"
     },
     "metadata": {
      "needs_background": "light"
     },
     "output_type": "display_data"
    },
    {
     "data": {
      "text/plain": "<Figure size 432x288 with 1 Axes>",
      "image/png": "[encoded data removed]"
     },
     "metadata": {
      "needs_background": "light"
     },
     "output_type": "display_data"
    }
   ],
   "source": [
    "\n",
    "L1_inverse = inverse_cholesky(L1)\n",
    "L2_inverse = inverse_cholesky(L2)\n",
    "L3_inverse = inverse_cholesky(L3)\n",
    "\n",
    "plt.spy(L1_inverse)\n",
    "plt.title(\"Inverse of Implemented cholesky algorithim\")\n",
    "plt.show()\n",
    "error = abs(np.sum(A))-abs(np.sum(L1_inverse))\n",
    "print(\"error relative to original matrix: {}\".format(error))\n",
    "\n",
    "plt.spy(L2_inverse)\n",
    "plt.title(\"Inverse of Implemented band_cholesky algorithim\")\n",
    "plt.show()\n",
    "error = abs(np.sum(A))-abs(np.sum(L2_inverse))\n",
    "print(\"error relative to original matrix: {}\".format(error))\n",
    "\n",
    "plt.spy(L3_inverse)\n",
    "plt.title(\"Inverse of numpt.linalg algorithim\")\n",
    "plt.show()\n",
    "error = abs(np.sum(A))-abs(np.sum(L3_inverse))\n",
    "print(\"error relative to original matrix: {}\".format(error))\n"
   ],
   "metadata": {
    "collapsed": false,
    "pycharm": {
     "name": "#%%\n",
     "is_executing": false
    }
   }
  },
  {
   "cell_type": "markdown",
   "source": [
    "\n",
    "\n"
   ],
   "metadata": {
    "collapsed": false,
    "pycharm": {
     "name": "#%% md\n"
    }
   }
  }
 ],
 "metadata": {
  "kernelspec": {
   "name": "pycharm-e837d807",
   "language": "python",
   "display_name": "PyCharm (Assignment 5)"
  },
  "language_info": {
   "codemirror_mode": {
    "name": "ipython",
    "version": 3
   },
   "file_extension": ".py",
   "mimetype": "text/x-python",
   "name": "python",
   "nbconvert_exporter": "python",
   "pygments_lexer": "ipython3",
   "version": "3.7.3"
  },
  "pycharm": {
   "stem_cell": {
    "cell_type": "raw",
    "source": [],
    "metadata": {
     "collapsed": false
    }
   }
  }
 },
 "nbformat": 4,
 "nbformat_minor": 2
}