{
 "cells": [
  {
   "cell_type": "markdown",
   "metadata": {},
   "source": [
    "\\centerline{\\textbf{ Niels Clayton - 300437590}}"
   ]
  },
  {
   "cell_type": "markdown",
   "metadata": {},
   "source": [
    "# Question 1\n",
    "\n",
    "## Introduction\n",
    "\n",
    "The purpose of question one is to look at different methods of numerical differentiation and their respective errors.\n",
    "\n",
    "## Procedure\n",
    "\n",
    "All three methods of numerical differentiation (central difference, forward difference, backward difference) were \n",
    "implemented in python. Then the functions were tested for the differentiation of $sin(x)$ into $cos(x)$. The \n",
    "the deference between the expected and the actual output was taken as the error. This error was then computed \n",
    "for a range of different step sizes and compared.\n"
   ]
  },
  {
   "cell_type": "code",
   "execution_count": 1,
   "metadata": {
    "pycharm": {
     "is_executing": false,
     "name": "#%% \n"
    }
   },
   "outputs": [],
   "source": [
    "import numpy as np\n",
    "import matplotlib.pyplot as plt"
   ]
  },
  {
   "cell_type": "markdown",
   "metadata": {},
   "source": [
    "Implementation of the numerical differentiation functions:"
   ]
  },
  {
   "cell_type": "code",
   "execution_count": 2,
   "metadata": {
    "pycharm": {
     "is_executing": false,
     "name": "#%%\n"
    }
   },
   "outputs": [],
   "source": [
    "def der_central(f, x, h):\n",
    "    return (f(x+h)-f(x-h))/(2*h)\n",
    "\n",
    "\n",
    "def der_forwards(f, x, h):\n",
    "    return (f(x + h) - f(x)) / h\n",
    "\n",
    "\n",
    "def der_backwards(f, x, h):\n",
    "    return (f(x) - f(x-h)) / h"
   ]
  },
  {
   "cell_type": "markdown",
   "metadata": {},
   "source": [
    "Comparison of the errors of the functions for different step sizes:"
   ]
  },
  {
   "cell_type": "code",
   "execution_count": 3,
   "metadata": {
    "pycharm": {
     "is_executing": false,
     "name": "#%%\n"
    }
   },
   "outputs": [
    {
     "data": {
      "text/plain": "<Figure size 432x288 with 1 Axes>",
      "image/png": "[encoded data removed]"
     },
     "metadata": {
      "needs_background": "light"
     },
     "output_type": "display_data"
    }
   ],
   "source": [
    "f = lambda x: np.sin(x)\n",
    "df = lambda x: np.cos(x)\n",
    "x = np.pi\n",
    "h_step = [0.2, 0.1, 0.05, 0.01, 0.005, 0.001, 0.0005, 0.0001]\n",
    "central_error = []\n",
    "backward_error = []\n",
    "forward_error = []\n",
    "\n",
    "for h in h_step:\n",
    "    central_error.append(np.abs(df(x) - der_central(f, x, h)))\n",
    "    backward_error.append(np.abs(df(x) - der_backwards(f, x, h)))\n",
    "    forward_error.append(np.abs(df(x) - der_forwards(f, x, h)))\n",
    "\n",
    "\n",
    "plt.plot(h_step, central_error, 'r', label='$Central$')\n",
    "plt.plot(h_step, forward_error, 'g', label='$Forward$')\n",
    "plt.plot(h_step, backward_error, 'b', label='$Backward$')\n",
    "plt.legend()\n",
    "plt.title(\"Error for central, forwards, and backwards differentiation\")\n",
    "plt.xlabel(\"Step size of h\")\n",
    "plt.ylabel(\"Error size\")\n",
    "plt.show()"
   ]
  },
  {
   "cell_type": "markdown",
   "metadata": {},
   "source": [
    "Calculate the order of accuracy of each of the numerical differentiation functions:"
   ]
  },
  {
   "cell_type": "code",
   "execution_count": 4,
   "metadata": {
    "pycharm": {
     "is_executing": false,
     "name": "#%%\n"
    }
   },
   "outputs": [
    {
     "name": "stdout",
     "text": [
      "1.9997154752429829\n1.999715481163221\n1.9997154758612827\n"
     ],
     "output_type": "stream"
    }
   ],
   "source": [
    "def p(E, h):\n",
    "    powers = []\n",
    "    for i in range(0, len(h_step)-1):\n",
    "        powers.append(np.log(E[i]/E[i+1])/np.log(h[i]/h[i+1]))\n",
    "    return powers\n",
    "\n",
    "print(np.average(p(central_error, h_step)))\n",
    "print(np.average(p(backward_error, h_step)))\n",
    "print(np.average(p(forward_error, h_step)))\n"
   ]
  },
  {
   "cell_type": "markdown",
   "metadata": {},
   "source": [
    "## Observations & discussion\n",
    "\n",
    "It can be observed that for the case of $sin(x)$ and its derivative,there is almost no difference between the three \n",
    "different functions of numerical differentiation. It can also be observed that all the functions have an order of accuracy \n",
    "close to 2, making them quadratic. This means that as the size of h increases, that error will increase in a quadratic \n",
    "fashion. It can also be seen on the graph, that as the step size used for computation (h) decreases in size, the error \n",
    "also decreases in size.\n",
    "\n",
    "\n",
    "## Conclusions\n",
    "\n",
    "It can be concluded that $sin(x)$ is not a very good test function for these methods, as it does not show any significant \n",
    "differences between them. A possible test function that would show the differences in error would be $e^x$, as this \n",
    "function grows exponentially, meaning that the small changes from $x$ to $x-h$ could lead to very large changes in $y$. \n",
    "This would then show that the central difference function provides the dest estimate of the derivative at a point, and\n",
    "that the forward and reverse difference functions are better suited to functions with only small gradients in the \n",
    "direction of stepping."
   ]
  },
  {
   "cell_type": "markdown",
   "source": [
    "# Question 2\n",
    "\n",
    "\n",
    "## Introduction\n",
    "\n",
    "The purpose of question two is to look at different methods of numerical quadrature and their error, specifically the \n",
    "midpoint rule, the trapezium rule, and the Gauss-Legendre Quadrature rule.\n",
    "\n",
    "## Procedure\n",
    "\n",
    "All three methods of numerical quadrature were implemented in python. Then the functions were tested for the quadrature \n",
    "of $\\frac{1}{1+x^2}$, which should evaluate to exactly $2 \\times arctan(5)$. The the deference between the expected and \n",
    "the actual output was taken as the error. This error was then computed for a range of different interval sizes and compared.\n",
    "\n",
    "Then the methods were tested on their degree of exactness, this was done by testing across a range of functions with a \n",
    "set number of intervals. The degree of exactness of a method is considered to be the last order of function that when \n",
    "integrated, the error will be equal to 0.\n"
   ],
   "metadata": {
    "collapsed": false
   }
  },
  {
   "cell_type": "markdown",
   "source": [
    "Implementation of the numerical quadrature functions:"
   ],
   "metadata": {
    "collapsed": false,
    "pycharm": {
     "name": "#%% md\n"
    }
   }
  },
  {
   "cell_type": "code",
   "execution_count": 5,
   "metadata": {
    "pycharm": {
     "is_executing": false,
     "name": "#%%\n"
    }
   },
   "outputs": [],
   "source": [
    "def midpointquad(func, a, b, N):\n",
    "    x = np.linspace(a, b, N)\n",
    "    total = 0\n",
    "    for k in range(0, len(x)-1):\n",
    "        total += ((x[k+1]-x[k])*func((x[k]+x[k+1])/2))\n",
    "    return total\n",
    "\n",
    "\n",
    "def trapezoid(func, a, b, N):\n",
    "    x = np.linspace(a, b, N)\n",
    "    total = 0\n",
    "    h = np.abs(b-a)/(N-1)\n",
    "\n",
    "    for k in range(0, len(x)-1):\n",
    "        x1 = func(x[k])\n",
    "        x2 = func(x[k+1])\n",
    "\n",
    "        total += ((x1 + x2)/2) * h\n",
    "    return total\n",
    "\n",
    "\n",
    "def GaussQuadrature(func, a, b, N):\n",
    "    x, w = np.polynomial.legendre.leggauss(N)\n",
    "    total = 0\n",
    "\n",
    "    for n in range(N):\n",
    "        total += (w[n] * func( (((b-a)/2) * x[n]) + ((a+b)/2) ) )\n",
    "\n",
    "    return total*((b-a)/2)\n"
   ]
  },
  {
   "cell_type": "markdown",
   "source": [
    "Testing of the midpoint quadrature method:"
   ],
   "metadata": {
    "collapsed": false,
    "pycharm": {
     "name": "#%% md\n"
    }
   }
  },
  {
   "cell_type": "code",
   "execution_count": 6,
   "metadata": {
    "pycharm": {
     "is_executing": false,
     "name": "#%%\n"
    }
   },
   "outputs": [
    {
     "name": "stdout",
     "text": [
      "N     h     Midpoint          Error          \n   11 1.000 2.736307727635371 1.05E-02\n  101 0.100 2.746813859774802 1.23E-05\n 1001 0.010 2.746801657164037 1.23E-07\n10001 0.001 2.746801535122770 1.23E-09\n"
     ],
     "output_type": "stream"
    }
   ],
   "source": [
    "f = lambda x:1/(1+x**2)\n",
    "int_f = 2*np.arctan(5)\n",
    "\n",
    "print(\"{:5s} {:5s} {:17s} {:15s}\".format(\"N\",\"h\", \"Midpoint\", \"Error\"))\n",
    "for n in (11, 101, 1001, 10001):\n",
    "    mid = midpointquad(f, -5, 5, n)\n",
    "    print(\"{:5d} {:.3f} {:.15f} {:.2E}\".format(n, (10 / (n - 1)), mid, np.abs(int_f-mid)))\n"
   ]
  },
  {
   "cell_type": "code",
   "execution_count": 7,
   "metadata": {
    "pycharm": {
     "is_executing": false,
     "name": "#%%\n"
    }
   },
   "outputs": [
    {
     "name": "stdout",
     "text": [
      "func  Midpoint Error          \n1     1.000000 0.00\n2x    1.000000 0.00\n3x^2  0.750000 0.25\n4x^3  0.500000 0.50\n"
     ],
     "output_type": "stream"
    }
   ],
   "source": [
    "func1 = midpointquad(lambda x: 1     , 0, 1, 2)\n",
    "func2 = midpointquad(lambda x: 2*x   , 0, 1, 2)\n",
    "func3 = midpointquad(lambda x: 3*x**2, 0, 1, 2)\n",
    "func4 = midpointquad(lambda x: 4*x**3, 0, 1, 2)\n",
    "\n",
    "print(\"{:5s} {:8s} {:15s}\".format(\"func\", \"Midpoint\", \"Error\"))\n",
    "print(\"{:5s} {:.6f} {:.2f}\".format(\"1\",    func1, np.abs(1 - func1)))\n",
    "print(\"{:5s} {:.6f} {:.2f}\".format(\"2x\",   func2, np.abs(1 - func2)))\n",
    "print(\"{:5s} {:.6f} {:.2f}\".format(\"3x^2\", func3, np.abs(1 - func3)))\n",
    "print(\"{:5s} {:.6f} {:.2f}\".format(\"4x^3\", func4, np.abs(1 - func4)))"
   ]
  },
  {
   "cell_type": "markdown",
   "source": [
    "Testing of the trapezoid method:"
   ],
   "metadata": {
    "collapsed": false
   }
  },
  {
   "cell_type": "code",
   "execution_count": 8,
   "metadata": {
    "pycharm": {
     "is_executing": false,
     "name": "#%%\n"
    }
   },
   "outputs": [
    {
     "name": "stdout",
     "text": [
      "N     h     Midpoint          Error          \n   11 1.000 2.756108597285068 9.31E-03\n  101 0.100 2.746776880807908 2.47E-05\n 1001 0.010 2.746801287341880 2.47E-07\n10001 0.001 2.746801531424546 2.47E-09\n"
     ],
     "output_type": "stream"
    }
   ],
   "source": [
    "print(\"{:5s} {:5s} {:17s} {:15s}\".format(\"N\",\"h\", \"Midpoint\", \"Error\"))\n",
    "for n in (11, 101, 1001, 10001):\n",
    "    mid = trapezoid(f, -5, 5, n)\n",
    "    print(\"{:5d} {:.3f} {:.15f} {:.2E}\".format(n, (10 / (n - 1)), mid, np.abs(int_f-mid)))\n",
    "\n"
   ]
  },
  {
   "cell_type": "code",
   "execution_count": 9,
   "metadata": {
    "pycharm": {
     "is_executing": false,
     "name": "#%%\n"
    }
   },
   "outputs": [
    {
     "name": "stdout",
     "text": [
      "func  Midpoint Error          \n1     1.000000 0.00\n2x    1.000000 0.00\n3x^2  1.500000 0.50\n4x^3  2.000000 1.00\n"
     ],
     "output_type": "stream"
    }
   ],
   "source": [
    "func1 = trapezoid(lambda x: 1     , 0, 1, 2)\n",
    "func2 = trapezoid(lambda x: 2*x   , 0, 1, 2)\n",
    "func3 = trapezoid(lambda x: 3*x**2, 0, 1, 2)\n",
    "func4 = trapezoid(lambda x: 4*x**3, 0, 1, 2)\n",
    "\n",
    "\n",
    "print(\"{:5s} {:8s} {:15s}\".format(\"func\", \"Midpoint\", \"Error\"))\n",
    "print(\"{:5s} {:.6f} {:.2f}\".format(\"1\",    func1, np.abs(1 - func1)))\n",
    "print(\"{:5s} {:.6f} {:.2f}\".format(\"2x\",   func2, np.abs(1 - func2)))\n",
    "print(\"{:5s} {:.6f} {:.2f}\".format(\"3x^2\", func3, np.abs(1 - func3)))\n",
    "print(\"{:5s} {:.6f} {:.2f}\".format(\"4x^3\", func4, np.abs(1 - func4)))"
   ]
  },
  {
   "cell_type": "markdown",
   "source": [
    "Testing of the the Gauss-Legendre Quadrature method:"
   ],
   "metadata": {
    "collapsed": false,
    "pycharm": {
     "name": "#%% md\n"
    }
   }
  },
  {
   "cell_type": "code",
   "execution_count": 10,
   "metadata": {
    "pycharm": {
     "is_executing": false,
     "name": "#%%\n"
    }
   },
   "outputs": [],
   "source": [
    "def GaussQuadrature(func, a, b, N):\n",
    "    x, w = np.polynomial.legendre.leggauss(N)\n",
    "    total = 0\n",
    "\n",
    "    for n in range(N):\n",
    "        total += (w[n] * func( (((b-a)/2) * x[n]) + ((a+b)/2) ) )\n",
    "\n",
    "    return (total*((b-a)/2))"
   ]
  },
  {
   "cell_type": "code",
   "execution_count": 11,
   "metadata": {
    "pycharm": {
     "is_executing": false,
     "name": "#%%\n"
    }
   },
   "outputs": [
    {
     "name": "stdout",
     "text": [
      "func    Error N = 2   Error N = 3    \n3x^2    0.000000      0.0000\n4x^3    0.000000      0.0000\n5x^4    0.027778      0.0000\n6x^5    0.083333      0.0000\n7x^6    0.157407      0.0025\n"
     ],
     "output_type": "stream"
    }
   ],
   "source": [
    "func1  = GaussQuadrature(lambda x: 3*x**2, 0, 1, 2)\n",
    "func2  = GaussQuadrature(lambda x: 4*x**3, 0, 1, 2)\n",
    "func3  = GaussQuadrature(lambda x: 5*x**4, 0, 1, 2)\n",
    "func4  = GaussQuadrature(lambda x: 6*x**5, 0, 1, 2)\n",
    "func5  = GaussQuadrature(lambda x: 7*x**6, 0, 1, 2)\n",
    "\n",
    "func6  = GaussQuadrature(lambda x: 3*x**2, 0, 1, 3)\n",
    "func7  = GaussQuadrature(lambda x: 4*x**3, 0, 1, 3)\n",
    "func8  = GaussQuadrature(lambda x: 5*x**4, 0, 1, 3)\n",
    "func9  = GaussQuadrature(lambda x: 6*x**5, 0, 1, 3)\n",
    "func10 = GaussQuadrature(lambda x: 7*x**6, 0, 1, 3)\n",
    "\n",
    "print(\"{:5s}   {:8s}   {:15s}\".format(\"func\", \"Error N = 2\", \"Error N = 3\"))\n",
    "print(\"{:5s}   {:.6f}      {:.4f}\".format(\"3x^2\", np.abs(1 - func1), np.abs(1-func6)))\n",
    "print(\"{:5s}   {:.6f}      {:.4f}\".format(\"4x^3\", np.abs(1 - func2), np.abs(1-func7)))\n",
    "print(\"{:5s}   {:.6f}      {:.4f}\".format(\"5x^4\", np.abs(1 - func3), np.abs(1-func8)))\n",
    "print(\"{:5s}   {:.6f}      {:.4f}\".format(\"6x^5\", np.abs(1 - func4), np.abs(1-func9)))\n",
    "print(\"{:5s}   {:.6f}      {:.4f}\".format(\"7x^6\", np.abs(1 - func5), np.abs(1-func10)))"
   ]
  },
  {
   "cell_type": "code",
   "execution_count": 12,
   "outputs": [
    {
     "name": "stdout",
     "text": [
      "N     Gauss-Lehendre    Error          \n    3 4.791666666666666 2.0448651328\n    7 3.080610401070961 0.3338088672\n   11 2.812290560886776 0.0654890270\n   15 2.760067369009000 0.0132658351\n"
     ],
     "output_type": "stream"
    }
   ],
   "source": [
    "f = lambda x:1/(1+x**2)\n",
    "int_f = 2*np.arctan(5)\n",
    "\n",
    "print(\"{:5s} {:17s} {:15s}\".format(\"N\",\"Gauss-Lehendre\", \"Error\"))\n",
    "for n in (3, 7, 11, 15):\n",
    "    mid = GaussQuadrature(f, -5, 5, n)\n",
    "    print(\"{:5d} {:.15f} {:.10f}\".format(n, mid, np.abs(int_f-mid)))"
   ],
   "metadata": {
    "collapsed": false,
    "pycharm": {
     "name": "#%%\n",
     "is_executing": false
    }
   }
  },
  {
   "cell_type": "markdown",
   "metadata": {
    "pycharm": {
     "name": "#%% md\n"
    }
   },
   "source": [
    "## Observations & Discussion\n",
    "\n",
    "It can be observed that for both the midpoint method and the trapezoid method, their order of exactness is 1. This means \n",
    "that for any first order polynomial, when integrating using either of these functions, the output will be exact. It can \n",
    "also be seen that the Gauss-Legendre Quadrature function will have an order of exactness that is $2N - 1$. It can also \n",
    "be observed that for the midpoint rule, and the trapezium rule, as $h$ decreases by a factor of 10, the error will decrease \n",
    "by a factor of 100\n",
    "\n",
    "\n",
    "## Conclusions\n",
    "\n",
    "It can be concluded that for the accurate calculation of integrals, the Gauss-Legendre Quadrature function is far \n",
    "superior to the midpoint rule and trapezium rule. This is because Gauss-Legendre Quadrature will allow for you to specify\n",
    "the order of exactness needed for your specific problem, while the midpoint rule and trapezium rule have a fixed \n",
    "exactness of 1. This however does come with the downside of being far more complex to compute, compared to the relative \n",
    "simplicity of the midpoint rule and trapezium rule.  \n"
   ]
  }
 ],
 "metadata": {
  "kernelspec": {
   "display_name": "Python 3",
   "language": "python",
   "name": "python3"
  },
  "language_info": {
   "codemirror_mode": {
    "name": "ipython",
    "version": 3
   },
   "file_extension": ".py",
   "mimetype": "text/x-python",
   "name": "python",
   "nbconvert_exporter": "python",
   "pygments_lexer": "ipython3",
   "version": "3.7.3"
  },
  "pycharm": {
   "stem_cell": {
    "cell_type": "raw",
    "source": [],
    "metadata": {
     "collapsed": false
    }
   }
  }
 },
 "nbformat": 4,
 "nbformat_minor": 2
}