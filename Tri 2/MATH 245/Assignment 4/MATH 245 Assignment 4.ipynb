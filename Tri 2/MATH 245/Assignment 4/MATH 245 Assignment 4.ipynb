{
 "cells": [
  {
   "cell_type": "markdown",
   "metadata": {},
   "source": [
    "# Project report (title)\n",
    "\n",
    "## Name (ID)"
   ]
  },
  {
   "cell_type": "markdown",
   "metadata": {},
   "source": [
    "## Question 1\n"
   ]
  },
  {
   "cell_type": "markdown",
   "metadata": {},
   "source": [
    "### Introduction\n",
    "\n",
    "The purpose of this project was to use..."
   ]
  },
  {
   "cell_type": "markdown",
   "metadata": {},
   "source": [
    "### Procedure\n",
    "\n",
    "Here you need to describe what you did to solve this question, include proofs, algorithms etc...\n"
   ]
  },
  {
   "cell_type": "code",
   "execution_count": 3,
   "outputs": [],
   "source": [
    "\n",
    "import numpy as np\n",
    "import matplotlib.pyplot as plt\n"
   ],
   "metadata": {
    "collapsed": false,
    "pycharm": {
     "name": "#%% \n",
     "is_executing": false
    }
   }
  },
  {
   "cell_type": "code",
   "execution_count": 4,
   "outputs": [],
   "source": [
    "def der_central(f, x, h):\n",
    "    return (f(x+h)-f(x-h))/(2*h)\n",
    "\n",
    "\n",
    "def der_backwards(f, x, h):\n",
    "    return (f(x + h) - f(x)) / h\n",
    "\n",
    "\n",
    "def der_forwards(f, x, h):\n",
    "    return (f(x) - f(x-h)) / h\n"
   ],
   "metadata": {
    "collapsed": false,
    "pycharm": {
     "name": "#%%\n",
     "is_executing": false
    }
   }
  },
  {
   "cell_type": "code",
   "execution_count": 5,
   "outputs": [
    {
     "data": {
      "text/plain": "<Figure size 432x288 with 1 Axes>",
      "image/png": "[encoded data removed]"
     },
     "metadata": {
      "needs_background": "light"
     },
     "output_type": "display_data"
    }
   ],
   "source": [
    "f = lambda x: np.sin(x)\n",
    "df = lambda x: np.cos(x)\n",
    "x = np.pi\n",
    "h_step = [0.2, 0.1, 0.05, 0.01, 0.005, 0.001, 0.0005, 0.0001]\n",
    "central_error = []\n",
    "backward_error = []\n",
    "forward_error = []\n",
    "\n",
    "for h in h_step:\n",
    "    central_error.append(np.abs(df(x) - der_central(f, x, h)))\n",
    "    backward_error.append(np.abs(df(x) - der_backwards(f, x, h)))\n",
    "    forward_error.append(np.abs(df(x) - der_forwards(f, x, h)))\n",
    "\n",
    "\n",
    "plt.plot(h_step, central_error, 'r', label='$Central$')\n",
    "plt.plot(h_step, forward_error, 'g', label='$Forward$')\n",
    "plt.plot(h_step, backward_error, 'b', label='$Backward$')\n",
    "plt.legend()\n",
    "plt.title(\"Error for central, forwards, and backwards differentiation\")\n",
    "plt.xlabel(\"Step size of h\")\n",
    "plt.ylabel(\"Error size\")\n",
    "plt.show()\n"
   ],
   "metadata": {
    "collapsed": false,
    "pycharm": {
     "name": "#%%\n",
     "is_executing": false
    }
   }
  },
  {
   "cell_type": "code",
   "execution_count": 6,
   "outputs": [
    {
     "name": "stdout",
     "text": [
      "1.9997154752429829\n1.9997154758612827\n1.999715481163221\n"
     ],
     "output_type": "stream"
    }
   ],
   "source": [
    "def p(E, h):\n",
    "    powers = []\n",
    "    for i in range(0, len(h_step)-1):\n",
    "        powers.append(np.log(E[i]/E[i+1])/np.log(h[i]/h[i+1]))\n",
    "    return powers\n",
    "\n",
    "print(np.average(p(central_error, h_step)))\n",
    "print(np.average(p(backward_error, h_step)))\n",
    "print(np.average(p(forward_error, h_step)))\n"
   ],
   "metadata": {
    "collapsed": false,
    "pycharm": {
     "name": "#%%\n",
     "is_executing": false
    }
   }
  },
  {
   "cell_type": "markdown",
   "metadata": {},
   "source": [
    "### Observations\n",
    "\n",
    "Here you need to describe the results including graphs."
   ]
  },
  {
   "cell_type": "markdown",
   "metadata": {},
   "source": [
    "### Discussion\n",
    "\n",
    "Here you need to include any interpretations or inferences that you draw on the basis of your observations"
   ]
  },
  {
   "cell_type": "markdown",
   "metadata": {},
   "source": [
    "### Conclusions\n",
    "\n",
    "Write a summary of your most important findings\n",
    "\n",
    "\n",
    "\n",
    "\n",
    "\n"
   ]
  },
  {
   "cell_type": "markdown",
   "metadata": {},
   "source": [
    "## Question 2\n",
    "\n",
    "Repeat the previous structure..."
   ]
  },
  {
   "cell_type": "markdown",
   "source": [
    "### Introduction\n",
    "\n",
    "The purpose of this project was to use..."
   ],
   "metadata": {
    "collapsed": false
   }
  },
  {
   "cell_type": "markdown",
   "source": [
    "### Procedure\n",
    "\n",
    "Here you need to describe what you did to solve this question, include proofs, algorithms etc...\n"
   ],
   "metadata": {
    "collapsed": false
   }
  },
  {
   "cell_type": "code",
   "execution_count": 7,
   "outputs": [],
   "source": [
    "def midpointquad(func, a, b, N):\n",
    "    x = np.linspace(a, b, N)\n",
    "    total = 0\n",
    "    for k in range(0, len(x)-1):\n",
    "        total += ((x[k+1]-x[k])*func((x[k]+x[k+1])/2))\n",
    "    return total\n"
   ],
   "metadata": {
    "collapsed": false,
    "pycharm": {
     "name": "#%%\n",
     "is_executing": false
    }
   }
  },
  {
   "cell_type": "code",
   "execution_count": 8,
   "outputs": [
    {
     "name": "stdout",
     "text": [
      "N     h     Midpoint          Error          \n   11 1.000 2.736307727635371 1.05E-02\n  101 0.100 2.746813859774802 1.23E-05\n 1001 0.010 2.746801657164037 1.23E-07\n10001 0.001 2.746801535122770 1.23E-09\n"
     ],
     "output_type": "stream"
    }
   ],
   "source": [
    "f = lambda x:1/(1+x**2)\n",
    "int_f = 2*np.arctan(5)\n",
    "\n",
    "print(\"{:5s} {:5s} {:17s} {:15s}\".format(\"N\",\"h\", \"Midpoint\", \"Error\"))\n",
    "for n in (11, 101, 1001, 10001):\n",
    "    mid = midpointquad(f, -5, 5, n)\n",
    "    print(\"{:5d} {:.3f} {:.15f} {:.2E}\".format(n, (10 / (n - 1)), mid, np.abs(int_f-mid)))\n"
   ],
   "metadata": {
    "collapsed": false,
    "pycharm": {
     "name": "#%%\n",
     "is_executing": false
    }
   }
  },
  {
   "cell_type": "code",
   "execution_count": 9,
   "outputs": [
    {
     "name": "stdout",
     "text": [
      "func  Midpoint Error          \n1     1.000000 0.00\n2x    1.000000 0.00\n3x^2  0.750000 0.25\n4x^3  0.500000 0.50\n"
     ],
     "output_type": "stream"
    }
   ],
   "source": [
    "func1 = midpointquad(lambda x: 1     , 0, 1, 2)\n",
    "func2 = midpointquad(lambda x: 2*x   , 0, 1, 2)\n",
    "func3 = midpointquad(lambda x: 3*x**2, 0, 1, 2)\n",
    "func4 = midpointquad(lambda x: 4*x**3, 0, 1, 2)\n",
    "\n",
    "print(\"{:5s} {:8s} {:15s}\".format(\"func\", \"Midpoint\", \"Error\"))\n",
    "print(\"{:5s} {:.6f} {:.2f}\".format(\"1\",    func1, np.abs(1 - func1)))\n",
    "print(\"{:5s} {:.6f} {:.2f}\".format(\"2x\",   func2, np.abs(1 - func2)))\n",
    "print(\"{:5s} {:.6f} {:.2f}\".format(\"3x^2\", func3, np.abs(1 - func3)))\n",
    "print(\"{:5s} {:.6f} {:.2f}\".format(\"4x^3\", func4, np.abs(1 - func4)))\n"
   ],
   "metadata": {
    "collapsed": false,
    "pycharm": {
     "name": "#%%\n",
     "is_executing": false
    }
   }
  },
  {
   "cell_type": "code",
   "execution_count": 10,
   "outputs": [],
   "source": [
    "def trapezoid(func, a, b, N):\n",
    "    x = np.linspace(a, b, N)\n",
    "    total = 0\n",
    "    h = np.abs(b-a)/(N-1)\n",
    "\n",
    "\n",
    "    for k in range(0, len(x)-1):\n",
    "        x1 = func(x[k])\n",
    "        x2 = func(x[k+1])\n",
    "\n",
    "        total += ((x1 + x2)/2) * h\n",
    "    return total\n"
   ],
   "metadata": {
    "collapsed": false,
    "pycharm": {
     "name": "#%%\n",
     "is_executing": false
    }
   }
  },
  {
   "cell_type": "code",
   "execution_count": 11,
   "outputs": [
    {
     "name": "stdout",
     "text": [
      "N     h     Midpoint          Error          \n   11 1.000 2.756108597285068 9.31E-03\n  101 0.100 2.746776880807908 2.47E-05\n 1001 0.010 2.746801287341880 2.47E-07\n10001 0.001 2.746801531424546 2.47E-09\n"
     ],
     "output_type": "stream"
    }
   ],
   "source": [
    "\n",
    "print(\"{:5s} {:5s} {:17s} {:15s}\".format(\"N\",\"h\", \"Midpoint\", \"Error\"))\n",
    "for n in (11, 101, 1001, 10001):\n",
    "    mid = trapezoid(f, -5, 5, n)\n",
    "    print(\"{:5d} {:.3f} {:.15f} {:.2E}\".format(n, (10 / (n - 1)), mid, np.abs(int_f-mid)))\n",
    "\n"
   ],
   "metadata": {
    "collapsed": false,
    "pycharm": {
     "name": "#%%\n",
     "is_executing": false
    }
   }
  },
  {
   "cell_type": "code",
   "execution_count": 12,
   "outputs": [
    {
     "name": "stdout",
     "text": [
      "func  Midpoint Error          \n1     1.000000 0.00\n2x    1.000000 0.00\n3x^2  1.500000 0.50\n4x^3  2.000000 1.00\n"
     ],
     "output_type": "stream"
    }
   ],
   "source": [
    "func1 = trapezoid(lambda x: 1     , 0, 1, 2)\n",
    "func2 = trapezoid(lambda x: 2*x   , 0, 1, 2)\n",
    "func3 = trapezoid(lambda x: 3*x**2, 0, 1, 2)\n",
    "func4 = trapezoid(lambda x: 4*x**3, 0, 1, 2)\n",
    "\n",
    "\n",
    "print(\"{:5s} {:8s} {:15s}\".format(\"func\", \"Midpoint\", \"Error\"))\n",
    "print(\"{:5s} {:.6f} {:.2f}\".format(\"1\",    func1, np.abs(1 - func1)))\n",
    "print(\"{:5s} {:.6f} {:.2f}\".format(\"2x\",   func2, np.abs(1 - func2)))\n",
    "print(\"{:5s} {:.6f} {:.2f}\".format(\"3x^2\", func3, np.abs(1 - func3)))\n",
    "print(\"{:5s} {:.6f} {:.2f}\".format(\"4x^3\", func4, np.abs(1 - func4)))\n"
   ],
   "metadata": {
    "collapsed": false,
    "pycharm": {
     "name": "#%%\n",
     "is_executing": false
    }
   }
  },
  {
   "cell_type": "markdown",
   "source": [
    "### Observations\n",
    "\n",
    "Here you need to describe the results including graphs."
   ],
   "metadata": {
    "collapsed": false
   }
  },
  {
   "cell_type": "markdown",
   "source": [
    "### Discussion\n",
    "\n",
    "Here you need to include any interpretations or inferences that you draw on the basis of your observations"
   ],
   "metadata": {
    "collapsed": false
   }
  },
  {
   "cell_type": "markdown",
   "source": [
    "### Conclusions\n",
    "\n",
    "Write a summary of your most important findings\n"
   ],
   "metadata": {
    "collapsed": false
   }
  }
 ],
 "metadata": {
  "kernelspec": {
   "name": "pycharm-e837d806",
   "language": "python",
   "display_name": "PyCharm (Assignment 4)"
  },
  "language_info": {
   "codemirror_mode": {
    "name": "ipython",
    "version": 3
   },
   "file_extension": ".py",
   "mimetype": "text/x-python",
   "name": "python",
   "nbconvert_exporter": "python",
   "pygments_lexer": "ipython3",
   "version": "3.6.1"
  },
  "pycharm": {
   "stem_cell": {
    "cell_type": "raw",
    "source": [],
    "metadata": {
     "collapsed": false
    }
   }
  }
 },
 "nbformat": 4,
 "nbformat_minor": 2
}