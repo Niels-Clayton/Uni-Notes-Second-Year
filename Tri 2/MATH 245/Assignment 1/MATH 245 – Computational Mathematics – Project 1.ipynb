{
 "cells": [
  {
   "cell_type": "markdown",
   "metadata": {},
   "source": [
    "# Niels Clayton 300437590"
   ]
  },
  {
   "cell_type": "markdown",
   "metadata": {},
   "source": [
    "## Question 1\n",
    "Compute the sum of vector $x$ using a for loop:\n",
    "\n",
    "$s_{1}=\\displaystyle\\sum_{i=1}^{5} x_{i}$"
   ]
  },
  {
   "cell_type": "code",
   "execution_count": 1,
   "metadata": {
    "pycharm": {
     "is_executing": false,
     "name": "#%%\n"
    }
   },
   "outputs": [
    {
     "name": "stdout",
     "text": [
      "s1 = 12.200000000000001\n"
     ],
     "output_type": "stream"
    }
   ],
   "source": [
    "x = [0.1, 1.3, -1.5, 0, 12.3]\n",
    "s1 = 0\n",
    "for i in x:\n",
    "    s1 += i\n",
    "print(\"s1 = {}\".format(s1))"
   ]
  },
  {
   "cell_type": "markdown",
   "metadata": {
    "pycharm": {
     "name": "#%% md\n"
    }
   },
   "source": [
    "Compute the sum of vector $x^2$ using a for loop:\n",
    "\n",
    "$s_{2}=\\displaystyle\\sum_{i=1}^{5} x_{i}^{i}$"
   ]
  },
  {
   "cell_type": "code",
   "execution_count": 18,
   "metadata": {
    "pycharm": {
     "is_executing": false,
     "name": "#%%\n"
    }
   },
   "outputs": [
    {
     "name": "stdout",
     "output_type": "stream",
     "text": [
      "s2 = 22893.214100000005\n"
     ]
    }
   ],
   "source": [
    "x = [0.1, 1.3, -1.5, 0, 12.3]\n",
    "s2 = 0\n",
    "\n",
    "for i in range(5):\n",
    "    s2 += (x[i]**i)\n",
    "print(\"s2 = {}\".format(s2))"
   ]
  },
  {
   "cell_type": "markdown",
   "metadata": {
    "pycharm": {
     "name": "#%% md\n"
    }
   },
   "source": [
    "Find the max value of vector $x$ using a for loop:\n",
    "\n",
    "$M = max\\{|x_{i}|, 1, 2, ..., 5\\}$"
   ]
  },
  {
   "cell_type": "code",
   "execution_count": 19,
   "metadata": {
    "pycharm": {
     "is_executing": false,
     "name": "#%%\n"
    }
   },
   "outputs": [
    {
     "name": "stdout",
     "output_type": "stream",
     "text": [
      "M = 12.3\n"
     ]
    }
   ],
   "source": [
    "x = [0.1, 1.3, -1.5, 0, 12.3]\n",
    "max = float('-inf')\n",
    "for i in x:\n",
    "    if (abs(i) > max):\n",
    "        max = abs(i)\n",
    "        \n",
    "print(\"M = {}\".format(max))"
   ]
  },
  {
   "cell_type": "markdown",
   "metadata": {
    "pycharm": {
     "name": "#%% md\n"
    }
   },
   "source": [
    "Find the min value of vector $x$ using a for loop:\n",
    " \n",
    "$m = min\\{|x_{i}|, 1, 2, ..., 5\\}$\n"
   ]
  },
  {
   "cell_type": "code",
   "execution_count": 1,
   "metadata": {
    "pycharm": {
     "is_executing": false,
     "name": "#%%\n"
    }
   },
   "outputs": [
    {
     "name": "stdout",
     "text": [
      "m = 0\n"
     ],
     "output_type": "stream"
    }
   ],
   "source": [
    "x = [0.1, 1.3, -1.5, 0, 12.3]\n",
    "min = float('inf')\n",
    "for i in x:\n",
    "    if (abs(i) < min):\n",
    "        min = abs(i)\n",
    "        \n",
    "print(\"m = {}\".format(min))"
   ]
  },
  {
   "cell_type": "markdown",
   "metadata": {},
   "source": [
    "Compute the sum, max, and min of vector $x$ using built in python functions:"
   ]
  },
  {
   "cell_type": "code",
   "execution_count": 2,
   "metadata": {
    "pycharm": {
     "is_executing": false,
     "name": "#%%\n"
    }
   },
   "outputs": [
    {
     "name": "stdout",
     "text": [
      "sum = 12.200000000000001\nmax = 12.3\nmin = 0\n"
     ],
     "output_type": "stream"
    }
   ],
   "source": [
    "x = [0.1, 1.3, -1.5, 0, 12.3]\n",
    "print(\"sum calculated function = {}\".format(sum(x)))\n",
    "print(\"max calculated function = {}\".format(max(map(abs,x))))\n",
    "print(\"min calculated function = {}\".format(min(map(abs,x))))"
   ]
  },
  {
   "cell_type": "markdown",
   "source": [
    "It can be seen that when we calculate the sum, max, or min using the built in python functions, we get the exact same \n",
    "values as we would when calculating them manually with loops. "
   ],
   "metadata": {
    "collapsed": false,
    "pycharm": {
     "name": "#%% md\n"
    }
   }
  },
  {
   "cell_type": "markdown",
   "source": [
    "## Question 2"
   ],
   "metadata": {
    "collapsed": false
   }
  },
  {
   "cell_type": "code",
   "execution_count": 2,
   "outputs": [
    {
     "data": {
      "text/plain": "array([1, 1])"
     },
     "metadata": {},
     "output_type": "execute_result",
     "execution_count": 2
    }
   ],
   "source": [
    "import numpy as np\n",
    "\n",
    "x = np.linspace(2,3,5)      # Vector of 5 equally spaces values between 2 and 3\n",
    "x[1] += 1                   # Add 1 to element 2 of x\n",
    "y = np.array([4,6,8,10,12]) # Create array y with successive even values starting at 4\n",
    "A = np.array([x, np.array([0,0,0,0,0]) , y]) # Form into a matrix"
   ],
   "metadata": {
    "collapsed": false,
    "pycharm": {
     "name": "#%%\n",
     "is_executing": false
    }
   }
  },
  {
   "cell_type": "code",
   "execution_count": null,
   "outputs": [],
   "source": [],
   "metadata": {
    "collapsed": false,
    "pycharm": {
     "name": "#%%\n"
    }
   }
  }
 ],
 "metadata": {
  "kernelspec": {
   "display_name": "Python 3",
   "language": "python",
   "name": "python3"
  },
  "language_info": {
   "codemirror_mode": {
    "name": "ipython",
    "version": 3
   },
   "file_extension": ".py",
   "mimetype": "text/x-python",
   "name": "python",
   "nbconvert_exporter": "python",
   "pygments_lexer": "ipython3",
   "version": "3.7.3"
  },
  "pycharm": {
   "stem_cell": {
    "cell_type": "raw",
    "source": [],
    "metadata": {
     "collapsed": false
    }
   }
  }
 },
 "nbformat": 4,
 "nbformat_minor": 2
}