{
 "cells": [
  {
   "cell_type": "markdown",
   "metadata": {},
   "source": [
    "# Niels Clayton 300437590"
   ]
  },
  {
   "cell_type": "markdown",
   "metadata": {},
   "source": [
    "## Question 1\n",
    "Compute the sum of vector $x$ using a for loop:\n",
    "\n",
    "$s_{1}=\\displaystyle\\sum_{i=1}^{5} x_{i}$"
   ]
  },
  {
   "cell_type": "code",
   "execution_count": 19,
   "metadata": {
    "pycharm": {
     "is_executing": false,
     "name": "#%%\n"
    }
   },
   "outputs": [
    {
     "name": "stdout",
     "text": [
      "s1 = 12.200000000000001\n"
     ],
     "output_type": "stream"
    }
   ],
   "source": [
    "x = [0.1, 1.3, -1.5, 0, 12.3]\n",
    "s1 = 0\n",
    "for i in x:\n",
    "    s1 += i\n",
    "print(\"s1 = {}\".format(s1))"
   ]
  },
  {
   "cell_type": "markdown",
   "metadata": {
    "pycharm": {
     "name": "#%% md\n"
    }
   },
   "source": [
    "Compute the sum of vector $x^i$ using a for loop:\n",
    "\n",
    "$s_{2}=\\displaystyle\\sum_{i=1}^{5} x_{i}^{i}$"
   ]
  },
  {
   "cell_type": "code",
   "execution_count": 20,
   "metadata": {
    "pycharm": {
     "is_executing": false,
     "name": "#%%\n"
    }
   },
   "outputs": [
    {
     "name": "stdout",
     "text": [
      "s2 = 22893.214100000005\n"
     ],
     "output_type": "stream"
    }
   ],
   "source": [
    "s2 = 0\n",
    "\n",
    "for i in range(5):\n",
    "    s2 += (x[i]**i)\n",
    "print(\"s2 = {}\".format(s2))"
   ]
  },
  {
   "cell_type": "markdown",
   "metadata": {
    "pycharm": {
     "name": "#%% md\n"
    }
   },
   "source": [
    "Find the max value of vector $x$ using a for loop:\n",
    "\n",
    "$M = max\\{|x_{i}|, 1, 2, ..., 5\\}$"
   ]
  },
  {
   "cell_type": "code",
   "execution_count": 21,
   "metadata": {
    "pycharm": {
     "is_executing": false,
     "name": "#%%\n"
    }
   },
   "outputs": [
    {
     "name": "stdout",
     "text": [
      "M = 12.3\n"
     ],
     "output_type": "stream"
    }
   ],
   "source": [
    "max = float('-inf')\n",
    "\n",
    "for i in x:\n",
    "    if (abs(i) > max):\n",
    "        max = abs(i)\n",
    "        \n",
    "print(\"M = {}\".format(max))"
   ]
  },
  {
   "cell_type": "markdown",
   "metadata": {
    "pycharm": {
     "name": "#%% md\n"
    }
   },
   "source": [
    "Find the min value of vector $x$ using a for loop:\n",
    " \n",
    "$m = min\\{|x_{i}|, 1, 2, ..., 5\\}$\n"
   ]
  },
  {
   "cell_type": "code",
   "execution_count": 22,
   "metadata": {
    "pycharm": {
     "is_executing": false,
     "name": "#%%\n"
    }
   },
   "outputs": [
    {
     "name": "stdout",
     "text": [
      "m = 0\n"
     ],
     "output_type": "stream"
    }
   ],
   "source": [
    "min = float('inf')\n",
    "\n",
    "for i in x:\n",
    "    if (abs(i) < min):\n",
    "        min = abs(i)\n",
    "        \n",
    "print(\"m = {}\".format(min))"
   ]
  },
  {
   "cell_type": "markdown",
   "metadata": {},
   "source": [
    "Compute the sum, max, and min of vector $x$ using built in python functions:"
   ]
  },
  {
   "cell_type": "code",
   "execution_count": 2,
   "metadata": {
    "pycharm": {
     "is_executing": false,
     "name": "#%%\n"
    }
   },
   "outputs": [
    {
     "name": "stdout",
     "text": [
      "sum calculated function = 12.200000000000001\nmax calculated function = 12.3\nmin calculated function = 0\n"
     ],
     "output_type": "stream"
    }
   ],
   "source": [
    "print(\"sum calculated function = {}\".format(sum(x)))\n",
    "print(\"max calculated function = {}\".format(max(map(abs,x))))\n",
    "print(\"min calculated function = {}\".format(min(map(abs,x))))"
   ]
  },
  {
   "cell_type": "markdown",
   "source": [
    "It can be seen that when we calculate the sum, max, or min using the built in python functions, we get the exact same \n",
    "values as we would when calculating them manually with loops. "
   ],
   "metadata": {
    "collapsed": false,
    "pycharm": {
     "name": "#%% md\n"
    }
   }
  },
  {
   "cell_type": "markdown",
   "source": [
    "## Question 2\n"
   ],
   "metadata": {
    "collapsed": false
   }
  },
  {
   "cell_type": "code",
   "execution_count": 18,
   "outputs": [
    {
     "name": "stdout",
     "text": [
      "vector x = [2.   3.25 2.5  2.75 3.  ]\n\nvector y = [ 4  6  8 10 12]\n\nmatrix A = \n[[ 2.    3.25  2.5   2.75  3.  ]\n [ 0.    0.    0.    0.    0.  ]\n [ 4.    6.    8.   10.   12.  ]]\n\nvector z = [2.0, 3.0833333333333335, 3.5, 4.25, 5.0]\n\n"
     ],
     "output_type": "stream"
    }
   ],
   "source": [
    "import numpy as np\n",
    "\n",
    "x = np.linspace(2,3,5)                       # Vector of 5 equally spaces values between 2 and 3\n",
    "x[1] += 1                                    # Add 1 to element 2 of x\n",
    "y = np.array([4,6,8,10,12])                  # Create array y with successive even values starting at 4\n",
    "A = np.array([x, np.array([0,0,0,0,0]) , y]) # Form into a matrix\n",
    "z = []\n",
    "for i in range(5):\n",
    "    average = (A[0,i] + A[1,i] + A[2, i])/3  # Average the columns and append them to z\n",
    "    z.append(average)\n",
    "np.asarray(z)\n",
    "print(\"vector x = {}\\n\".format(x))\n",
    "print(\"vector y = {}\\n\".format(y))\n",
    "print(\"matrix A = \\n{}\\n\".format(A))\n",
    "print(\"vector z = {}\\n\".format(z))\n"
   ],
   "metadata": {
    "collapsed": false,
    "pycharm": {
     "name": "#%%\n",
     "is_executing": false
    }
   }
  },
  {
   "cell_type": "markdown",
   "source": [
    "## Question 3\n",
    "\n",
    "Compute $C_1 = A+B$ and $C_2 = A-B$"
   ],
   "metadata": {
    "collapsed": false,
    "pycharm": {
     "name": "#%% md\n"
    }
   }
  },
  {
   "cell_type": "code",
   "execution_count": 17,
   "outputs": [
    {
     "name": "stdout",
     "text": [
      "matrix C_1: \n[[ 5  0]\n [-2  2]]\n\nmatrix C_2: \n[[-3  4]\n [10 -4]]\n\nmatrix D_1: \n[[ -8   4]\n [ 22 -11]]\n\nmatrix D_2: \n[[ -4  10]\n [  6 -15]]\n\n"
     ],
     "output_type": "stream"
    }
   ],
   "source": [
    "A = np.matrix([[1,2], [4,-1]])      # Declare matrix A and B\n",
    "B = np.matrix([[4,-2], [-6, 3]])\n",
    "c_1 = A+B\n",
    "print(\"matrix C_1: \\n{}\\n\".format(c_1))\n",
    "c_2 = A-B\n",
    "print(\"matrix C_2: \\n{}\\n\".format(c_2))\n"
   ],
   "metadata": {
    "collapsed": false,
    "pycharm": {
     "name": "#%%\n",
     "is_executing": false
    }
   }
  },
  {
   "cell_type": "markdown",
   "source": [
    "Compute $F_{ij} = B_{ij}+A_{ij}B_{ij}^\\frac{1}{3}$\n"
   ],
   "metadata": {
    "collapsed": false,
    "pycharm": {
     "name": "#%% md\n"
    }
   }
  },
  {
   "cell_type": "code",
   "execution_count": 17,
   "outputs": [
    {
     "name": "stdout",
     "text": [
      "5.333333333333333\n-3.333333333333333\n-14.0\n2.0\n"
     ],
     "output_type": "stream"
    }
   ],
   "source": [
    "F = np.matrix([[]])\n",
    "temp_row = []\n",
    "for i in range (2):\n",
    "    for j in range (2):\n",
    "        val = (B[i,j]+(A[i,j]*(B[i,j]** 1/3)))\n",
    "        print(val)\n",
    "        temp_row.append(val)\n",
    "\n"
   ],
   "metadata": {
    "collapsed": false,
    "pycharm": {
     "name": "#%%\n",
     "is_executing": false
    }
   }
  },
  {
   "cell_type": "code",
   "execution_count": null,
   "outputs": [],
   "source": [
    "\n"
   ],
   "metadata": {
    "collapsed": false,
    "pycharm": {
     "name": "#%%\n"
    }
   }
  }
 ],
 "metadata": {
  "kernelspec": {
   "name": "pycharm-e837d803",
   "language": "python",
   "display_name": "PyCharm (Assignment 1)"
  },
  "language_info": {
   "codemirror_mode": {
    "name": "ipython",
    "version": 3
   },
   "file_extension": ".py",
   "mimetype": "text/x-python",
   "name": "python",
   "nbconvert_exporter": "python",
   "pygments_lexer": "ipython3",
   "version": "3.7.3"
  },
  "pycharm": {
   "stem_cell": {
    "cell_type": "raw",
    "source": [],
    "metadata": {
     "collapsed": false
    }
   }
  }
 },
 "nbformat": 4,
 "nbformat_minor": 2
}