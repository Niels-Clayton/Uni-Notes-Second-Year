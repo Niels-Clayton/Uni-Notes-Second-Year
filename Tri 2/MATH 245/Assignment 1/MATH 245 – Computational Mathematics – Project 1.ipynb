{
 "cells": [
  {
   "cell_type": "markdown",
   "metadata": {},
   "source": [
    "# Niels Clayton 300437590"
   ]
  },
  {
   "cell_type": "markdown",
   "metadata": {},
   "source": [
    "## Question 1\n",
    "Compute the sum of vector $x$ using a for loop:\n",
    "\n",
    "$s_{1}=\\displaystyle\\sum_{i=1}^{5} x_{i}$"
   ]
  },
  {
   "cell_type": "code",
   "execution_count": 19,
   "metadata": {
    "pycharm": {
     "is_executing": false,
     "name": "#%%\n"
    }
   },
   "outputs": [
    {
     "name": "stdout",
     "text": [
      "s1 = 12.200000000000001\n"
     ],
     "output_type": "stream"
    }
   ],
   "source": [
    "x = [0.1, 1.3, -1.5, 0, 12.3]\n",
    "s1 = 0\n",
    "for i in x:\n",
    "    s1 += i\n",
    "print(\"s1 = {}\".format(s1))"
   ]
  },
  {
   "cell_type": "markdown",
   "metadata": {
    "pycharm": {
     "name": "#%% md\n"
    }
   },
   "source": [
    "Compute the sum of vector $x^i$ using a for loop:\n",
    "\n",
    "$s_{2}=\\displaystyle\\sum_{i=1}^{5} x_{i}^{i}$"
   ]
  },
  {
   "cell_type": "code",
   "execution_count": 20,
   "metadata": {
    "pycharm": {
     "is_executing": false,
     "name": "#%%\n"
    }
   },
   "outputs": [
    {
     "name": "stdout",
     "text": [
      "s2 = 22893.214100000005\n"
     ],
     "output_type": "stream"
    }
   ],
   "source": [
    "s2 = 0\n",
    "\n",
    "for i in range(5):\n",
    "    s2 += (x[i]**i)\n",
    "print(\"s2 = {}\".format(s2))"
   ]
  },
  {
   "cell_type": "markdown",
   "metadata": {
    "pycharm": {
     "name": "#%% md\n"
    }
   },
   "source": [
    "Find the max value of vector $x$ using a for loop:\n",
    "\n",
    "$M = max\\{|x_{i}|, 1, 2, ..., 5\\}$"
   ]
  },
  {
   "cell_type": "code",
   "execution_count": 21,
   "metadata": {
    "pycharm": {
     "is_executing": false,
     "name": "#%%\n"
    }
   },
   "outputs": [
    {
     "name": "stdout",
     "text": [
      "M = 12.3\n"
     ],
     "output_type": "stream"
    }
   ],
   "source": [
    "max = float('-inf')\n",
    "\n",
    "for i in x:\n",
    "    if (abs(i) > max):\n",
    "        max = abs(i)\n",
    "        \n",
    "print(\"M = {}\".format(max))"
   ]
  },
  {
   "cell_type": "markdown",
   "metadata": {
    "pycharm": {
     "name": "#%% md\n"
    }
   },
   "source": [
    "Find the min value of vector $x$ using a for loop:\n",
    " \n",
    "$m = min\\{|x_{i}|, 1, 2, ..., 5\\}$\n"
   ]
  },
  {
   "cell_type": "code",
   "execution_count": 22,
   "metadata": {
    "pycharm": {
     "is_executing": false,
     "name": "#%%\n"
    }
   },
   "outputs": [
    {
     "name": "stdout",
     "text": [
      "m = 0\n"
     ],
     "output_type": "stream"
    }
   ],
   "source": [
    "min = float('inf')\n",
    "\n",
    "for i in x:\n",
    "    if (abs(i) < min):\n",
    "        min = abs(i)\n",
    "        \n",
    "print(\"m = {}\".format(min))"
   ]
  },
  {
   "cell_type": "markdown",
   "metadata": {},
   "source": [
    "Compute the sum, max, and min of vector $x$ using built in python functions:"
   ]
  },
  {
   "cell_type": "code",
   "execution_count": 2,
   "metadata": {
    "pycharm": {
     "is_executing": false,
     "name": "#%%\n"
    }
   },
   "outputs": [
    {
     "name": "stdout",
     "text": [
      "sum calculated function = 12.200000000000001\nmax calculated function = 12.3\nmin calculated function = 0\n"
     ],
     "output_type": "stream"
    }
   ],
   "source": [
    "print(\"sum calculated function = {}\".format(sum(x)))\n",
    "print(\"max calculated function = {}\".format(max(map(abs,x))))\n",
    "print(\"min calculated function = {}\".format(min(map(abs,x))))"
   ]
  },
  {
   "cell_type": "markdown",
   "source": [
    "It can be seen that when we calculate the sum, max, or min using the built in python functions, we get the exact same \n",
    "values as we would when calculating them manually with loops. "
   ],
   "metadata": {
    "collapsed": false,
    "pycharm": {
     "name": "#%% md\n"
    }
   }
  },
  {
   "cell_type": "markdown",
   "source": [
    "## Question 2\n"
   ],
   "metadata": {
    "collapsed": false
   }
  },
  {
   "cell_type": "code",
   "execution_count": 18,
   "outputs": [
    {
     "name": "stdout",
     "text": [
      "vector x = [2.   3.25 2.5  2.75 3.  ]\n\nvector y = [ 4  6  8 10 12]\n\nmatrix A = \n[[ 2.    3.25  2.5   2.75  3.  ]\n [ 0.    0.    0.    0.    0.  ]\n [ 4.    6.    8.   10.   12.  ]]\n\nvector z = [2.0, 3.0833333333333335, 3.5, 4.25, 5.0]\n\n"
     ],
     "output_type": "stream"
    }
   ],
   "source": [
    "import numpy as np\n",
    "\n",
    "x = np.linspace(2,3,5)                       # Vector of 5 equally spaces values between 2 and 3\n",
    "x[1] += 1                                    # Add 1 to element 2 of x\n",
    "y = np.array([4,6,8,10,12])                  # Create array y with successive even values starting at 4\n",
    "A = np.array([x, np.array([0,0,0,0,0]) , y]) # Form into a matrix\n",
    "z = []\n",
    "for i in range(5):\n",
    "    average = (A[0,i] + A[1,i] + A[2, i])/3  # Average the columns and append them to z\n",
    "    z.append(average)\n",
    "np.asarray(z)\n",
    "print(\"vector x = {}\\n\".format(x))\n",
    "print(\"vector y = {}\\n\".format(y))\n",
    "print(\"matrix A = \\n{}\\n\".format(A))\n",
    "print(\"vector z = {}\\n\".format(z))\n"
   ],
   "metadata": {
    "collapsed": false,
    "pycharm": {
     "name": "#%%\n",
     "is_executing": false
    }
   }
  },
  {
   "cell_type": "markdown",
   "source": [
    "## Question 3\n",
    "\n",
    "Compute $C_1 = A+B$ and $C_2 = A-B$"
   ],
   "metadata": {
    "collapsed": false,
    "pycharm": {
     "name": "#%% md\n"
    }
   }
  },
  {
   "cell_type": "code",
   "execution_count": 28,
   "outputs": [
    {
     "name": "stdout",
     "text": [
      "matrix C_1: \n[[ 5  0]\n [-2  2]]\n\nmatrix C_2: \n[[-3  4]\n [10 -4]]\n\n"
     ],
     "output_type": "stream"
    }
   ],
   "source": [
    "A = np.array([[1,2], [4,-1]])      # Declare matrix A and B\n",
    "B = np.array([[4,-2], [-6, 3]])\n",
    "c_1 = A+B\n",
    "print(\"matrix C_1: \\n{}\\n\".format(c_1))\n",
    "c_2 = A-B\n",
    "print(\"matrix C_2: \\n{}\\n\".format(c_2))"
   ],
   "metadata": {
    "collapsed": false,
    "pycharm": {
     "name": "#%%\n",
     "is_executing": false
    }
   }
  },
  {
   "cell_type": "markdown",
   "source": [
    "Compute $A.B$ & $B.A$"
   ],
   "metadata": {
    "collapsed": false,
    "pycharm": {
     "name": "#%% md\n"
    }
   }
  },
  {
   "cell_type": "code",
   "execution_count": 27,
   "outputs": [
    {
     "name": "stdout",
     "text": [
      "matrix D_1: \n[[ -8   4]\n [ 22 -11]]\n\nmatrix D_2: \n[[ -4  10]\n [  6 -15]]\n\n"
     ],
     "output_type": "stream"
    }
   ],
   "source": [
    "d_1 = np.dot(A,B)\n",
    "print(\"matrix D_1: \\n{}\\n\".format(d_1))\n",
    "d_2 = np.dot(B,A)\n",
    "print(\"matrix D_2: \\n{}\\n\".format(d_2))"
   ],
   "metadata": {
    "collapsed": false,
    "pycharm": {
     "name": "#%%\n",
     "is_executing": false
    }
   }
  },
  {
   "cell_type": "markdown",
   "source": [
    "Compute $F_{ij} = B_{ij}+A_{ij}B_{ij}^\\frac{1}{3}$\n"
   ],
   "metadata": {
    "collapsed": false,
    "pycharm": {
     "name": "#%% md\n"
    }
   }
  },
  {
   "cell_type": "code",
   "execution_count": 26,
   "outputs": [
    {
     "name": "stdout",
     "text": [
      "matrix F: \n[[  5.58740105  -4.5198421 ]\n [-13.26848237   1.55775043]]\n\n"
     ],
     "output_type": "stream"
    }
   ],
   "source": [
    "temp_row = []\n",
    "for i in range (2):\n",
    "    for j in range (2):\n",
    "        val = B[i][j] + (A[i][j] * (np.sign(B[i][j])*(np.power(np.abs(B[i][j]), 1/3))))\n",
    "        temp_row.append(val)\n",
    "F = np.asarray(temp_row)\n",
    "F.shape = (2,2)\n",
    "print(\"matrix F: \\n{}\\n\".format(F))\n"
   ],
   "metadata": {
    "collapsed": false,
    "pycharm": {
     "name": "#%%\n",
     "is_executing": false
    }
   }
  },
  {
   "cell_type": "markdown",
   "source": [
    "Find if A and B are singular by computing their determinants, If the determinant is 0, it is singular. If not singular, \n",
    "find the inverse matrix."
   ],
   "metadata": {
    "collapsed": false,
    "pycharm": {
     "name": "#%% md\n"
    }
   }
  },
  {
   "cell_type": "code",
   "execution_count": 35,
   "outputs": [
    {
     "name": "stdout",
     "text": [
      "Determinant of A: -8.999999999999998\n\nDeterminant of B: 0.0\n\nInverse of A: \n[[ 0.11111111  0.22222222]\n [ 0.44444444 -0.11111111]]\n"
     ],
     "output_type": "stream"
    }
   ],
   "source": [
    "print(\"Determinant of A: {}\\n\".format(np.linalg.det(A)))\n",
    "print(\"Determinant of B: {}\\n\".format(np.linalg.det(B)))\n",
    "print(\"Inverse of A: \\n{}\".format(np.linalg.inv(A)))"
   ],
   "metadata": {
    "collapsed": false,
    "pycharm": {
     "name": "#%%\n",
     "is_executing": false
    }
   }
  },
  {
   "cell_type": "markdown",
   "source": [
    "Find the Eigenvalues of matrix B"
   ],
   "metadata": {
    "collapsed": false,
    "pycharm": {
     "name": "#%% md\n"
    }
   }
  },
  {
   "cell_type": "code",
   "execution_count": 48,
   "outputs": [
    {
     "name": "stdout",
     "text": [
      "The Eigenvalues of B are: 7.0 and -0.0\n"
     ],
     "output_type": "stream"
    }
   ],
   "source": [
    "print(\"The Eigenvalues of B are: {0} and {1}\".format(round(np.linalg.eigvals(B)[0]),round(np.linalg.eigvals(B)[1])))"
   ],
   "metadata": {
    "collapsed": false,
    "pycharm": {
     "name": "#%%\n",
     "is_executing": false
    }
   }
  },
  {
   "cell_type": "markdown",
   "source": [
    "Because matrix B is singular, it would be expected that one of its eigenvalues is 0. the eigenvalues calculates confirm this."
   ],
   "metadata": {
    "collapsed": false,
    "pycharm": {
     "name": "#%% md\n"
    }
   }
  },
  {
   "cell_type": "markdown",
   "source": [
    "## Question 4\n",
    "Write a function to compute the factorial $n!$"
   ],
   "metadata": {
    "collapsed": false,
    "pycharm": {
     "name": "#%% md\n"
    }
   }
  },
  {
   "cell_type": "code",
   "execution_count": 96,
   "outputs": [],
   "source": [
    "def factorial(n):\n",
    "    if n == 0:\n",
    "        return 1\n",
    "    else:\n",
    "        return n*(factorial(n-1))"
   ],
   "metadata": {
    "collapsed": false,
    "pycharm": {
     "name": "#%%\n",
     "is_executing": false
    }
   }
  },
  {
   "cell_type": "markdown",
   "source": [
    "Create a vector of 100 elements between 0 and 100 using the formula:\n",
    "$a_n=\\frac{(-1)^n\\pi^{2n}}{(2n)!}$"
   ],
   "metadata": {
    "collapsed": false,
    "pycharm": {
     "name": "#%% md\n"
    }
   }
  },
  {
   "cell_type": "code",
   "execution_count": 97,
   "outputs": [
    {
     "name": "stderr",
     "text": [
      "c:\\users\\niels\\desktop\\uni-notes\\tri 2\\math 245\\assignment 1\\venv\\lib\\site-packages\\ipykernel_launcher.py:5: RuntimeWarning: overflow encountered in double_scalars\n  \"\"\"\n"
     ],
     "output_type": "stream"
    }
   ],
   "source": [
    "a = np.linspace(0,100,101)\n",
    "for i in range (101):\n",
    "    a[i] = (np.power(-1, a[i])*(np.power(np.pi, (2*a[i]))))/(factorial(2*a[i]))"
   ],
   "metadata": {
    "collapsed": false,
    "pycharm": {
     "name": "#%%\n",
     "is_executing": false
    }
   }
  },
  {
   "cell_type": "markdown",
   "source": [
    "Sum all the values of $a$:"
   ],
   "metadata": {
    "collapsed": false,
    "pycharm": {
     "name": "#%% md\n"
    }
   }
  },
  {
   "cell_type": "code",
   "execution_count": 98,
   "outputs": [
    {
     "name": "stdout",
     "text": [
      "-1.0000000000000002\n"
     ],
     "output_type": "stream"
    }
   ],
   "source": [
    "print(sum(a))"
   ],
   "metadata": {
    "collapsed": false,
    "pycharm": {
     "name": "#%%\n",
     "is_executing": false
    }
   }
  },
  {
   "cell_type": "markdown",
   "source": [
    "We can see that the series converges on -1, which is what was expected since taking the limit as n tends to infinity is 1.\n",
    "\n",
    "If we attempt the same calculation using math.factorial() we will get an error that the integer value produced by math.factorial() \n",
    "is too large to be converted to a float."
   ],
   "metadata": {
    "collapsed": false,
    "pycharm": {
     "name": "#%% md\n"
    }
   }
  },
  {
   "cell_type": "code",
   "execution_count": 103,
   "outputs": [
    {
     "traceback": [
      "\u001b[1;31m---------------------------------------------------------------------------\u001b[0m",
      "\u001b[1;31mOverflowError\u001b[0m                             Traceback (most recent call last)",
      "\u001b[1;32m<ipython-input-103-9584f55efae7>\u001b[0m in \u001b[0;36m<module>\u001b[1;34m\u001b[0m\n\u001b[0;32m      2\u001b[0m \u001b[0ma\u001b[0m \u001b[1;33m=\u001b[0m \u001b[0mnp\u001b[0m\u001b[1;33m.\u001b[0m\u001b[0mlinspace\u001b[0m\u001b[1;33m(\u001b[0m\u001b[1;36m0\u001b[0m\u001b[1;33m,\u001b[0m\u001b[1;36m100\u001b[0m\u001b[1;33m,\u001b[0m\u001b[1;36m101\u001b[0m\u001b[1;33m)\u001b[0m\u001b[1;33m\u001b[0m\u001b[1;33m\u001b[0m\u001b[0m\n\u001b[0;32m      3\u001b[0m \u001b[1;32mfor\u001b[0m \u001b[0mi\u001b[0m \u001b[1;32min\u001b[0m \u001b[0mrange\u001b[0m \u001b[1;33m(\u001b[0m\u001b[1;36m101\u001b[0m\u001b[1;33m)\u001b[0m\u001b[1;33m:\u001b[0m\u001b[1;33m\u001b[0m\u001b[1;33m\u001b[0m\u001b[0m\n\u001b[1;32m----> 4\u001b[1;33m     \u001b[0ma\u001b[0m\u001b[1;33m[\u001b[0m\u001b[0mi\u001b[0m\u001b[1;33m]\u001b[0m \u001b[1;33m=\u001b[0m \u001b[1;33m(\u001b[0m\u001b[0mnp\u001b[0m\u001b[1;33m.\u001b[0m\u001b[0mpower\u001b[0m\u001b[1;33m(\u001b[0m\u001b[1;33m-\u001b[0m\u001b[1;36m1\u001b[0m\u001b[1;33m,\u001b[0m \u001b[0ma\u001b[0m\u001b[1;33m[\u001b[0m\u001b[0mi\u001b[0m\u001b[1;33m]\u001b[0m\u001b[1;33m)\u001b[0m\u001b[1;33m*\u001b[0m\u001b[1;33m(\u001b[0m\u001b[0mnp\u001b[0m\u001b[1;33m.\u001b[0m\u001b[0mpower\u001b[0m\u001b[1;33m(\u001b[0m\u001b[0mnp\u001b[0m\u001b[1;33m.\u001b[0m\u001b[0mpi\u001b[0m\u001b[1;33m,\u001b[0m \u001b[1;33m(\u001b[0m\u001b[1;36m2\u001b[0m\u001b[1;33m*\u001b[0m\u001b[0ma\u001b[0m\u001b[1;33m[\u001b[0m\u001b[0mi\u001b[0m\u001b[1;33m]\u001b[0m\u001b[1;33m)\u001b[0m\u001b[1;33m)\u001b[0m\u001b[1;33m)\u001b[0m\u001b[1;33m)\u001b[0m\u001b[1;33m/\u001b[0m\u001b[1;33m(\u001b[0m\u001b[0mmath\u001b[0m\u001b[1;33m.\u001b[0m\u001b[0mfactorial\u001b[0m\u001b[1;33m(\u001b[0m\u001b[1;36m2\u001b[0m\u001b[1;33m*\u001b[0m\u001b[0ma\u001b[0m\u001b[1;33m[\u001b[0m\u001b[0mi\u001b[0m\u001b[1;33m]\u001b[0m\u001b[1;33m)\u001b[0m\u001b[1;33m)\u001b[0m\u001b[1;33m\u001b[0m\u001b[1;33m\u001b[0m\u001b[0m\n\u001b[0m\u001b[0;32m      5\u001b[0m \u001b[1;33m\u001b[0m\u001b[0m\n\u001b[0;32m      6\u001b[0m \u001b[1;33m\u001b[0m\u001b[0m\n",
      "\u001b[1;31mOverflowError\u001b[0m: int too large to convert to float"
     ],
     "ename": "OverflowError",
     "evalue": "int too large to convert to float",
     "output_type": "error"
    }
   ],
   "source": [
    "import math\n",
    "a = np.linspace(0,100,101)\n",
    "for i in range (101):\n",
    "    a[i] = (np.power(-1, a[i])*(np.power(np.pi, (2*a[i]))))/(math.factorial(2*a[i]))\n"
   ],
   "metadata": {
    "collapsed": false,
    "pycharm": {
     "name": "#%%\n",
     "is_executing": false
    }
   }
  },
  {
   "cell_type": "markdown",
   "source": [
    "## Question 5\n",
    "Create two column vectors x and y of 100 elements with random values between −10\n",
    "and 10."
   ],
   "metadata": {
    "collapsed": false,
    "pycharm": {
     "name": "#%% md\n"
    }
   }
  },
  {
   "cell_type": "code",
   "execution_count": 114,
   "outputs": [],
   "source": [
    "x = np.array(-10 + (20*np.random.random(100)))\n",
    "y = np.array(-10 + (20*np.random.random(100)))"
   ],
   "metadata": {
    "collapsed": false,
    "pycharm": {
     "name": "#%% \n",
     "is_executing": false
    }
   }
  },
  {
   "cell_type": "markdown",
   "source": [
    "Write a function to compute the dot product of two vectors"
   ],
   "metadata": {
    "collapsed": false,
    "pycharm": {
     "name": "#%% md\n"
    }
   }
  },
  {
   "cell_type": "code",
   "execution_count": 119,
   "outputs": [],
   "source": [
    "def mydot(x, y):\n",
    "    total = 0.0\n",
    "    for i in range (100):\n",
    "        total += (x[i]*y[i])\n",
    "    return total"
   ],
   "metadata": {
    "collapsed": false,
    "pycharm": {
     "name": "#%%\n",
     "is_executing": false
    }
   }
  },
  {
   "cell_type": "markdown",
   "source": [
    "Compare my function to numpy.dot() and numpy.inner()"
   ],
   "metadata": {
    "collapsed": false,
    "pycharm": {
     "name": "#%% md\n"
    }
   }
  },
  {
   "cell_type": "code",
   "execution_count": 123,
   "outputs": [
    {
     "name": "stdout",
     "text": [
      "Output using numpy.dot() function:   216.17157231136545\nOutput using numpy.inner() function: 216.17157231136545\nOutput using my function function:   216.17157231136608\n"
     ],
     "output_type": "stream"
    }
   ],
   "source": [
    "print(\"Output using numpy.dot() function:   {}\".format(np.dot(x,y)))\n",
    "print(\"Output using numpy.inner() function: {}\".format(np.inner(x,y)))\n",
    "print(\"Output using my function function:   {}\".format(mydot(x,y)))"
   ],
   "metadata": {
    "collapsed": false,
    "pycharm": {
     "name": "#%%\n",
     "is_executing": false
    }
   }
  },
  {
   "cell_type": "markdown",
   "source": [
    "It can be seen that both numpy.dot() and numpy.inner() functions output identical values. The function mydot()\n",
    "that I have written outputs almost the same valve, but differs in the last 3 decimal points (past $1\\times10^{-11}$\n",
    "the functions are different.) \n",
    "## Question6\n",
    "Plot the following graphs:\n",
    "\n",
    "$y(x)=\\log_{10}(1+\\sqrt{x})$"
   ],
   "metadata": {
    "collapsed": false,
    "pycharm": {
     "name": "#%% md\n"
    }
   }
  },
  {
   "cell_type": "code",
   "execution_count": 139,
   "outputs": [
    {
     "data": {
      "text/plain": "<Figure size 432x288 with 1 Axes>",
      "image/png": "[encoded data removed]"
     },
     "metadata": {
      "needs_background": "light"
     },
     "output_type": "display_data"
    }
   ],
   "source": [
    "import matplotlib.pyplot as plt\n",
    "x= np.linspace(0,1,101)\n",
    "y = np.log10((1+np.sqrt(x)))\n",
    "plt.plot(x,y)\n",
    "plt.xlabel('x')\n",
    "plt.ylabel('f(x)')\n",
    "plt.xlim(0,1)\n",
    "plt.show()"
   ],
   "metadata": {
    "collapsed": false,
    "pycharm": {
     "name": "#%%\n",
     "is_executing": false
    }
   }
  },
  {
   "cell_type": "markdown",
   "source": [
    "$y(x) = e^{x+x^2}$"
   ],
   "metadata": {
    "collapsed": false,
    "pycharm": {
     "name": "#%% md\n"
    }
   }
  },
  {
   "cell_type": "code",
   "execution_count": 136,
   "outputs": [
    {
     "data": {
      "text/plain": "<Figure size 432x288 with 1 Axes>",
      "image/png": "[encoded data removed]"
     },
     "metadata": {
      "needs_background": "light"
     },
     "output_type": "display_data"
    }
   ],
   "source": [
    "y = np.power(np.e, (x + np.power(x,2)))\n",
    "plt.plot(x,y)\n",
    "plt.xlabel('x')\n",
    "plt.ylabel('f(x)')\n",
    "plt.xlim(0,1)\n",
    "plt.show()"
   ],
   "metadata": {
    "collapsed": false,
    "pycharm": {
     "name": "#%%\n",
     "is_executing": false
    }
   }
  },
  {
   "cell_type": "markdown",
   "source": [
    "$y(x)=arcos(x)$"
   ],
   "metadata": {
    "collapsed": false,
    "pycharm": {
     "name": "#%% md\n"
    }
   }
  },
  {
   "cell_type": "code",
   "execution_count": 137,
   "outputs": [
    {
     "data": {
      "text/plain": "<Figure size 432x288 with 1 Axes>",
      "image/png": "[encoded data removed]"
     },
     "metadata": {
      "needs_background": "light"
     },
     "output_type": "display_data"
    }
   ],
   "source": [
    "y = np.arccos(x)\n",
    "plt.plot(x,y)\n",
    "plt.xlabel('x')\n",
    "plt.ylabel('f(x)')\n",
    "plt.xlim(0,1)\n",
    "plt.show()"
   ],
   "metadata": {
    "collapsed": false,
    "pycharm": {
     "name": "#%%\n",
     "is_executing": false
    }
   }
  },
  {
   "cell_type": "markdown",
   "source": [
    "$y(x)=\\sqrt{1+\\log^2(x)}$"
   ],
   "metadata": {
    "collapsed": false,
    "pycharm": {
     "name": "#%% md\n"
    }
   }
  },
  {
   "cell_type": "code",
   "execution_count": 138,
   "outputs": [
    {
     "name": "stderr",
     "text": [
      "c:\\users\\niels\\desktop\\uni-notes\\tri 2\\math 245\\assignment 1\\venv\\lib\\site-packages\\ipykernel_launcher.py:1: RuntimeWarning: divide by zero encountered in log10\n  \"\"\"Entry point for launching an IPython kernel.\n"
     ],
     "output_type": "stream"
    },
    {
     "data": {
      "text/plain": "<Figure size 432x288 with 1 Axes>",
      "image/png": "[encoded data removed]"
     },
     "metadata": {
      "needs_background": "light"
     },
     "output_type": "display_data"
    }
   ],
   "source": [
    "y = np.sqrt((1 + np.power(np.log10(x),2)))\n",
    "plt.plot(x,y)\n",
    "plt.xlabel('x')\n",
    "plt.ylabel('f(x)')\n",
    "plt.xlim(0,1)\n",
    "plt.show()"
   ],
   "metadata": {
    "collapsed": false,
    "pycharm": {
     "name": "#%%\n",
     "is_executing": false
    }
   }
  },
  {
   "cell_type": "markdown",
   "source": [
    "$y(x)=\\tan^2(x)-1$"
   ],
   "metadata": {
    "collapsed": false,
    "pycharm": {
     "name": "#%% md\n"
    }
   }
  },
  {
   "cell_type": "code",
   "execution_count": 140,
   "outputs": [
    {
     "data": {
      "text/plain": "<Figure size 432x288 with 1 Axes>",
      "image/png": "[encoded data removed]"
     },
     "metadata": {
      "needs_background": "light"
     },
     "output_type": "display_data"
    }
   ],
   "source": [
    "y = np.power(np.tan(x),2) -1\n",
    "plt.plot(x,y)\n",
    "plt.xlabel('x')\n",
    "plt.ylabel('f(x)')\n",
    "plt.xlim(0,1)\n",
    "plt.show()"
   ],
   "metadata": {
    "collapsed": false,
    "pycharm": {
     "name": "#%%\n",
     "is_executing": false
    }
   }
  },
  {
   "cell_type": "markdown",
   "source": [
    "## Question 7\n",
    "\n",
    "\n"
   ],
   "metadata": {
    "collapsed": false,
    "pycharm": {
     "name": "#%% md\n"
    }
   }
  }
 ],
 "metadata": {
  "kernelspec": {
   "name": "python3",
   "language": "python",
   "display_name": "Python 3"
  },
  "language_info": {
   "codemirror_mode": {
    "name": "ipython",
    "version": 3
   },
   "file_extension": ".py",
   "mimetype": "text/x-python",
   "name": "python",
   "nbconvert_exporter": "python",
   "pygments_lexer": "ipython3",
   "version": "3.7.3"
  },
  "pycharm": {
   "stem_cell": {
    "cell_type": "raw",
    "source": [],
    "metadata": {
     "collapsed": false
    }
   }
  }
 },
 "nbformat": 4,
 "nbformat_minor": 2
}