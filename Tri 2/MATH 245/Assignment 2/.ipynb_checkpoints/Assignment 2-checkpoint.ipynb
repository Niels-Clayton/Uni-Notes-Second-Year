{
 "cells": [
  {
   "cell_type": "markdown",
   "metadata": {},
   "source": [
    "# MATH 245 – Computational Mathematics – Project 2 \n",
    "\n",
    "## Niels Clayton 300437590"
   ]
  },
  {
   "cell_type": "markdown",
   "metadata": {},
   "source": [
    "## Question 1\n"
   ]
  },
  {
   "cell_type": "markdown",
   "metadata": {},
   "source": [
    "### Introduction\n",
    "The purpose of this section is to investigate the bisection method of approximating the roots of a function. \n"
   ]
  },
  {
   "cell_type": "markdown",
   "metadata": {},
   "source": [
    "### Procedure\n",
    "Write a function to use the Bisection method of approximating the root of $f(x)=0$ to a given tolerance of TOL, \n",
    "using a maximum of NMAX iterations.\n",
    "\n",
    "The function $f(x)$ is given with a fixed interval, and it is assumed there is a root with within this interval. This \n",
    "interval is then bisected. If the midpoint is positive, then the root must be between the lower bound and the mid point. \n",
    "If the midpoint is negative then the root must be between the upper bound and the midpoint. Do this recursively, \n",
    "adjusting the bounds each iteration.\n",
    "\n"
   ]
  },
  {
   "cell_type": "code",
   "execution_count": 27,
   "metadata": {
    "pycharm": {
     "is_executing": false,
     "name": "#%%\n"
    }
   },
   "outputs": [
    {
     "name": "stdout",
     "output_type": "stream",
     "text": [
      "0.3990126609802246\n"
     ]
    }
   ],
   "source": [
    "import numpy as np\n",
    "\n",
    "func_1 = lambda x: np.log(x)+x      # Function to find the roots of\n",
    "\n",
    "def bisection(a, b, func, x_n, tolerence, iterations, NMAX):\n",
    "    \n",
    "    c = (a+b)/2\n",
    "    \n",
    "    if np.abs(c - x_n) <= tolerence or iterations >= NMAX:\n",
    "        return c\n",
    "    \n",
    "    if func(c) == 0:\n",
    "        return c\n",
    "    \n",
    "    elif func(a)*func(c) < 0:\n",
    "        return bisection(a, c, func, c, tolerence, iterations+1, NMAX)\n",
    "        \n",
    "    else:\n",
    "        return bisection(c, b, func, c, tolerence, iterations+1, NMAX)\n",
    "\n",
    "func_1 = lambda x: np.log10(x)+x\n",
    "TOL = 1e-6  \n",
    "NMAX = 1e3\n",
    "\n",
    "print(bisection(0.1, 1, func_1, 0, TOL, 0, NMAX))\n",
    "\n"
   ]
  },
  {
   "cell_type": "markdown",
   "metadata": {},
   "source": [
    "### Observations and discussion\n",
    "\n",
    "the system converges on the root.\n",
    "\n",
    "\n",
    "\n",
    "\n",
    "\n"
   ]
  },
  {
   "cell_type": "markdown",
   "metadata": {},
   "source": [
    "## Question 2\n",
    " "
   ]
  },
  {
   "cell_type": "markdown",
   "metadata": {},
   "source": [
    "### Introduction\n",
    "The purpose of this section is to investigate the Newton method of approximating the roots of a function. \n"
   ]
  },
  {
   "cell_type": "markdown",
   "metadata": {},
   "source": [
    "### Procedure\n",
    "Write a function to use the Newton method of approximating the root of $f(x)=0$ to a given tolerance of TOL, \n",
    "using a maximum of NMAX iterations.\n",
    "\n",
    "Newtons method requires $f(x)$ and $f'(x)$. The x intersection of the derivative $f'(x)$ is then calculated, and this new \n",
    "x value is input as the new guess for the method.\n",
    "\n"
   ]
  },
  {
   "cell_type": "code",
   "execution_count": 28,
   "metadata": {
    "pycharm": {
     "is_executing": false,
     "name": "#%%\n"
    }
   },
   "outputs": [
    {
     "name": "stdout",
     "output_type": "stream",
     "text": [
      "0.3990132627323363\n"
     ]
    }
   ],
   "source": [
    "func_1 = lambda x: np.log10(x)+x      # Function to find the roots of\n",
    "derivative = lambda x: 1/x + 1      # Derivative of func_1\n",
    "\n",
    "def Newton(func, derivative, guess, tolerence, iteration, NMAX):\n",
    "    x = guess - (func_1(guess)/derivative(guess))\n",
    "    \n",
    "    #print(\"n = {} | x_n = {:.5f} | f(x_n) = {:.5f} | error = {:.5f}\".format(iteration, guess, func_1(guess), np.abs(x-guess)))\n",
    "    \n",
    "    if np.abs(x-guess) <= tolerence or iteration >= NMAX:\n",
    "        return x\n",
    "    \n",
    "    else:\n",
    "        return Newton(func, derivative, x, tolerence, iteration+1, NMAX)\n",
    "\n",
    "NMAX = 1e3\n",
    "TOL = 1e-6\n",
    "print(Newton(func_1, derivative, 0.4, TOL, 0, NMAX))\n"
   ]
  },
  {
   "cell_type": "markdown",
   "metadata": {
    "pycharm": {
     "name": "#%% md\n"
    }
   },
   "source": [
    "### Observations and discussion\n",
    "\n",
    "The system converges on the root.\n",
    "\n",
    "\n",
    "\n"
   ]
  },
  {
   "cell_type": "markdown",
   "metadata": {
    "pycharm": {
     "name": "#%% md\n"
    }
   },
   "source": [
    "## Question 3\n"
   ]
  },
  {
   "cell_type": "markdown",
   "metadata": {},
   "source": [
    "### Introduction\n",
    "\n",
    "The purpose of this section is to investigate the differences in time and accuracy of my own bisection and Newton methods\n",
    "compared to the build in functions in the library."
   ]
  },
  {
   "cell_type": "markdown",
   "metadata": {},
   "source": [
    "### Procedure\n",
    "\n",
    "3. (a)"
   ]
  },
  {
   "cell_type": "code",
   "execution_count": 29,
   "metadata": {
    "pycharm": {
     "is_executing": false,
     "name": "#%%\n"
    }
   },
   "outputs": [
    {
     "data": {
      "image/png": "[encoded data removed]",
      "text/plain": [
       "<Figure size 432x288 with 1 Axes>"
      ]
     },
     "metadata": {
      "needs_background": "light"
     },
     "output_type": "display_data"
    }
   ],
   "source": [
    "import numpy as np\n",
    "import matplotlib.pyplot as plt\n",
    "import scipy.optimize as sci\n",
    "\n",
    "\n",
    "func_1 = lambda x: np.arctan((2*(x-1))) - np.log(np.abs(x))\n",
    "\n",
    "x = np.arange(-1.0, 5.0, 0.001)\n",
    "y = []\n",
    "\n",
    "for i in x:\n",
    "    y.append(func_1(i))\n",
    "\n",
    "plt.plot(x,y)\n",
    "plt.axis([-1, 5, -1, 1])\n",
    "plt.axhline(0,color='black') \n",
    "plt.axvline(0,color='black') \n",
    "plt.show()\n"
   ]
  },
  {
   "cell_type": "markdown",
   "metadata": {
    "pycharm": {
     "name": "#%% md\n"
    }
   },
   "source": [
    "3. (c) and (d)\n"
   ]
  },
  {
   "cell_type": "code",
   "execution_count": 30,
   "metadata": {
    "pycharm": {
     "is_executing": false,
     "name": "#%%\n"
    }
   },
   "outputs": [
    {
     "name": "stdout",
     "output_type": "stream",
     "text": [
      "Bisection:\n",
      "\n",
      "Root calculated with own method:     -0.30009708404541013 | Time taken: 0.000286102294921875\n",
      "Root calculated with Library method: -0.3000975659972027 | Time taken: 0.00014519691467285156\n",
      "\n",
      "\n",
      "Root calculated with own method:     0.4254112243652344 | Time taken: 0.000202178955078125\n",
      "Root calculated with Library method: 0.42541157391824524 | Time taken: 0.00012946128845214844\n",
      "\n",
      "\n",
      "Root calculated with own method:     0.9999998092651368 | Time taken: 0.00022077560424804688\n",
      "Root calculated with Library method: 1.000000000000364 | Time taken: 0.00031757354736328125\n",
      "\n",
      "\n",
      "Root calculated with own method:     4.09946346282959 | Time taken: 0.00031948089599609375\n",
      "Root calculated with Library method: 4.09946288757601 | Time taken: 0.00016736984252929688\n",
      "\n",
      "\n",
      "Newton's:\n",
      "\n",
      "Root calculated with own method:     -0.300097565997022 | Time taken: 0.0001709461212158203\n",
      "Root calculated with Library method: -0.3000975659970607 | Time taken: 0.0004937648773193359\n",
      "\n",
      "\n",
      "Root calculated with own method:     0.4254115739186147 | Time taken: 8.940696716308594e-05\n",
      "Root calculated with Library method: 0.425411573918655 | Time taken: 0.00041937828063964844\n",
      "\n",
      "\n",
      "Root calculated with own method:     1.0 | Time taken: 9.036064147949219e-05\n",
      "Root calculated with Library method: 1.0 | Time taken: 0.00043654441833496094\n",
      "\n",
      "\n",
      "Root calculated with own method:     4.09946288757457 | Time taken: 0.00011229515075683594\n",
      "Root calculated with Library method: 4.09946288757457 | Time taken: 0.0008258819580078125\n",
      "\n",
      "\n",
      "Calculated with fsolve:\n",
      "\n",
      "[-0.30009757]\n",
      "[0.42541157]\n",
      "[1.]\n",
      "[4.09946289]\n"
     ]
    }
   ],
   "source": [
    "from time import time\n",
    "import  scipy.optimize as sci\n",
    "TOL = 1e-6  \n",
    "NMAX = 1e3\n",
    "\n",
    "func_1 = lambda x: np.arctan((2*(x-1))) - np.log(np.abs(x))      # Function to find the roots of\n",
    "derivative = lambda x: (2 / (4*(np.power(x-1, 2))+1)) - 1/x      # Derivative of func_1\n",
    "\n",
    "def bisec(a,b):\n",
    "    t_1 = time()\n",
    "    root = bisection(a,b,func_1, 0, TOL, 0, NMAX)\n",
    "    t_2 = time()\n",
    "    print(\"Root calculated with own method:     {} | Time taken: {}\".format(root, (t_2-t_1)))\n",
    "    t_1 = time()\n",
    "    root = sci.bisect(func_1, a, b)\n",
    "    t_2 = time()\n",
    "    print(\"Root calculated with Library method: {} | Time taken: {}\".format(root, (t_2-t_1)))\n",
    "    print(\"\\n\")\n",
    "    \n",
    "def newt(a):\n",
    "    t_1 = time()\n",
    "    root = Newton(func_1, derivative, a, TOL , 0, NMAX)\n",
    "    t_2 = time()\n",
    "    print(\"Root calculated with own method:     {} | Time taken: {}\".format(root, (t_2-t_1)))\n",
    "    t_1 = time()\n",
    "    root = sci.newton(func_1, a, derivative)\n",
    "    t_2 = time()\n",
    "    print(\"Root calculated with Library method: {} | Time taken: {}\".format(root, (t_2-t_1)))\n",
    "    print(\"\\n\")\n",
    "\n",
    "print(\"Bisection:\\n\")\n",
    "bisec(-0.4, 0.2) \n",
    "bisec(0.3, 0.5)\n",
    "bisec(0.8, 1.1)\n",
    "bisec(3, 5)\n",
    "print(\"Newton's:\\n\")\n",
    "newt(-0.1)\n",
    "newt(0.1)\n",
    "newt(0.9)\n",
    "newt(4)\n",
    "print(\"Calculated with fsolve:\\n\")\n",
    "print(sci.fsolve(func_1, -0.1))\n",
    "print(sci.fsolve(func_1, 0.1))\n",
    "print(sci.fsolve(func_1, 0.9))\n",
    "print(sci.fsolve(func_1, 4))\n"
   ]
  },
  {
   "cell_type": "markdown",
   "metadata": {
    "pycharm": {
     "name": "#%% md\n"
    }
   },
   "source": [
    "3. (e)\n"
   ]
  },
  {
   "cell_type": "code",
   "execution_count": 31,
   "metadata": {
    "pycharm": {
     "is_executing": false,
     "name": "#%%\n"
    }
   },
   "outputs": [
    {
     "name": "stdout",
     "output_type": "stream",
     "text": [
      "x_0 = -1:   0.42541157391865503\n",
      "x_0 = 0.65: -0.30009756599706067\n",
      "x_0 = 0.7:  4.099462887574569\n",
      "x_0 = 1.7:  4.099462887574569\n",
      "x_0 = 1.8:  -4.602074230202898e+90\n",
      "x_0 = 1.9:  -0.30009756599706067\n",
      "x_0 = 5:    4.09946288757457\n",
      "x_0 = 10:   -0.30009756599706067\n"
     ]
    }
   ],
   "source": [
    "TOL = 1e-6\n",
    "NMAX = 50\n",
    "\n",
    "print(\"x_0 = -1:   {}\".format(Newton(func_1, derivative, -1, TOL , 0, NMAX)))\n",
    "print(\"x_0 = 0.65: {}\".format(Newton(func_1, derivative, 0.65, TOL , 0, NMAX)))\n",
    "print(\"x_0 = 0.7:  {}\".format(Newton(func_1, derivative, 0.7, TOL , 0, NMAX)))\n",
    "print(\"x_0 = 1.7:  {}\".format(Newton(func_1, derivative, 1.7, TOL , 0, NMAX)))\n",
    "print(\"x_0 = 1.8:  {}\".format(Newton(func_1, derivative, 1.8, TOL , 0, NMAX)))\n",
    "print(\"x_0 = 1.9:  {}\".format(Newton(func_1, derivative, 1.9, TOL , 0, NMAX)))\n",
    "print(\"x_0 = 5:    {}\".format(Newton(func_1, derivative, 5, TOL , 0, NMAX)))\n",
    "print(\"x_0 = 10:   {}\".format(Newton(func_1, derivative, 10, TOL , 0, NMAX)))\n"
   ]
  },
  {
   "cell_type": "markdown",
   "metadata": {
    "pycharm": {
     "name": "#%% md\n"
    }
   },
   "source": [
    "### Observations\n",
    "\n",
    "### 3. (a)\n",
    "\n",
    "\n",
    "There are 3 changes in monotonicity of the course of $f(x)$ and 4 roots.\n",
    "\n",
    "### 3. (c) and (d)\n",
    "\n",
    "For the bisection method of approximating roots of a function, My function was both less efficient, and less accurate than\n",
    "the bisection function within the library, sometimes only being accurate to 4 significant figures. \n",
    "\n",
    "For Newton's method my function and and the built in library function provided comparable results, however my function was \n",
    "still less slower and less efficient.  \n",
    "\n",
    "### 3. (e) \n",
    "\n",
    "The only two roots that were converged on were -0.30009, and 4.09946, rather than the root that was closest to the initial guess. At the initial guess of $x_0 = 1.8$ the answer 'blew up'\n",
    "and didnt converge."
   ]
  },
  {
   "cell_type": "markdown",
   "metadata": {},
   "source": [
    "### Discussion\n",
    "\n",
    "### 3. (c) and (d)\n",
    "I would assume that the lack in accuracy within my own bisection method is due to the tolerance value used when computing \n",
    "the roots not being small enough, allowing the function to terminate before an accurate answer is reached. \n",
    "\n",
    "I would assume that the speed discrepancy across both of my functions is due to the use of recursion in my own method. Recursion is highly inefficient, and causes there to be \n",
    "a new function call every iteration. \n",
    "\n",
    "### 3. (e)\n",
    "\n",
    "The sequence only ever converges on the two before mentioned roots due to the fact that Newton's method works by taking a tangent to the curve\n",
    "at a given point, and then finding the x-intercept of that tangent. If the gradient of the curve is small, then the x-intercept can overshoot \n",
    "the closest root, causing the sequence to converge on a different root. For the case of $x_0 = 1.8$ this is an inflection point on the curve \n",
    "with a gradient of 0, therefore there is no x-intercept, and the root is not found.\n",
    "\n"
   ]
  },
  {
   "cell_type": "markdown",
   "metadata": {
    "pycharm": {
     "name": "#%% md\n"
    }
   },
   "source": [
    "\n",
    "## Question 4\n",
    "\n",
    "### Introduction\n",
    "Approximate the roots of the function from question 3 using a hybrid Newton's \n",
    "method and bisection method to stop the overshoot that can come with newtons method.\n",
    "\n",
    "### Procedure\n",
    "Implement the function described in question 4"
   ]
  },
  {
   "cell_type": "code",
   "execution_count": 32,
   "metadata": {
    "pycharm": {
     "is_executing": false,
     "name": "#%% \n"
    }
   },
   "outputs": [
    {
     "name": "stdout",
     "output_type": "stream",
     "text": [
      "Root : -0.3000975659970607 | Iteration 4\n",
      "Root : 0.425411573918655 | Iteration 4\n",
      "Root : 1.0000000000000002 | Iteration 3\n",
      "Root : 4.09946288757457 | Iteration 4\n"
     ]
    }
   ],
   "source": [
    "TOL = 1e-6\n",
    "NMAX = 50\n",
    "func_1 = lambda x: np.arctan((2*(x-1))) - np.log(np.abs(x))      # Function to find the roots of\n",
    "derivative = lambda x: (2 / (4*(np.power(x-1, 2))+1)) - 1/x      # Derivative of func_1\n",
    "\n",
    "def findzero(a,b,tolerence, NMAX, function, der):\n",
    "    \n",
    "    lower = a\n",
    "    upper = b\n",
    "    c = (upper+lower)/2\n",
    "    \n",
    "    if function(lower)*function(c) < 0:\n",
    "        upper = c\n",
    "    else:\n",
    "        lower = c\n",
    "    \n",
    "    x_0 = abs(upper -lower)/2 \n",
    "    for i in range (NMAX):\n",
    "        \n",
    "        x = x_0 - (function(x_0)/der(x_0))\n",
    "        \n",
    "        if x < lower or x > upper:\n",
    "            x = (lower+upper)/2\n",
    "        \n",
    "        if function(x) ==0 or np.abs(x-x_0) <= tolerence:\n",
    "            return x, i, 0\n",
    "        \n",
    "        elif function(lower)*function(x) <= 0:\n",
    "            upper = x\n",
    "        \n",
    "        else:\n",
    "            lower = x\n",
    "        x_0 = x\n",
    "    \n",
    "    return x, NMAX, 2\n",
    "\n",
    "a = findzero(-1, -0.1, TOL, NMAX, func_1, derivative)\n",
    "b = findzero(0.1, 0.5, TOL, NMAX, func_1, derivative)\n",
    "c = findzero(0.8, 1.1, TOL, NMAX, func_1, derivative)\n",
    "d = findzero(3, 5, TOL, NMAX, func_1, derivative)\n",
    "\n",
    "print(\"Root : {} | Iteration {}\".format(a[0], a[1]))\n",
    "print(\"Root : {} | Iteration {}\".format(b[0], b[1]))\n",
    "print(\"Root : {} | Iteration {}\".format(c[0], c[1]))\n",
    "print(\"Root : {} | Iteration {}\".format(d[0], d[1]))\n"
   ]
  },
  {
   "cell_type": "markdown",
   "metadata": {
    "pycharm": {
     "name": "#%% md\n"
    }
   },
   "source": [
    "### Observations\n",
    "By using this hybrid function, the series converges on the roots much faster.\n"
   ]
  },
  {
   "cell_type": "markdown",
   "metadata": {
    "pycharm": {
     "name": "#%% md\n"
    }
   },
   "source": [
    "### Discussion\n",
    "This hybrid method will will always converge, assuming there is a root on the \n",
    "interval $[a,b]$. This is because when Newton's method causes the next x calculation\n",
    "to outside the interval, the bisection method will become responsible for calculations.\n"
   ]
  },
  {
   "cell_type": "markdown",
   "metadata": {},
   "source": [
    "\n",
    "## Question 5\n",
    "\n",
    "### Introduction\n",
    "Investigate the secant method of finding roots, and find the rate of convergence. \n",
    "\n",
    "### Procedure\n"
   ]
  },
  {
   "cell_type": "code",
   "execution_count": 33,
   "metadata": {
    "pycharm": {
     "is_executing": false,
     "name": "#%% \n"
    }
   },
   "outputs": [
    {
     "name": "stdout",
     "output_type": "stream",
     "text": [
      "1.0000000000004157\n",
      " the rate of convergence is 21.48589855213716\n",
      " the rate of convergence is -0.6426797082681942\n",
      " the rate of convergence is -0.3493551453953944\n",
      " the rate of convergence is 2.9792275226551053\n",
      " the rate of convergence is 0.5963827374591647\n",
      " the rate of convergence is 2.4026400226138436\n",
      " the rate of convergence is 1.5886950564021125\n",
      " the rate of convergence is 1.6019066507893551\n",
      "1.0000000000019944\n"
     ]
    },
    {
     "name": "stderr",
     "output_type": "stream",
     "text": [
      "/home/niels/Desktop/Uni-Notes/Tri 2/MATH 245/garbage/lib/python3.7/site-packages/ipykernel_launcher.py:33: RuntimeWarning: divide by zero encountered in double_scalars\n"
     ]
    }
   ],
   "source": [
    "func_1 = lambda x: (x**20)-1      # Function to find the roots of\n",
    "\n",
    "def secant(func, guess_1, guess_2, tolerence, iteration, NMAX):\n",
    "    x = guess_1 - ((guess_1-guess_2)/(func(guess_1)-func(guess_2)))*func(guess_1)\n",
    "    if np.abs(x-guess_1) <= tolerence or iteration >= NMAX:\n",
    "        return x\n",
    "    \n",
    "    \n",
    "    else:\n",
    "        \n",
    "        return secant(func, x, guess_1, tolerence, iteration+1, NMAX)\n",
    "\n",
    "NMAX = 1000\n",
    "TOL = 1e-6\n",
    "print(secant(func_1, 0.9, 1.4, TOL, 0, NMAX))\n",
    "\n",
    "\n",
    "def rate(func, guess_1, guess_2, tolerence, NMAX):\n",
    "    \n",
    "    x = 0\n",
    "    x_1 = guess_1\n",
    "    x_2 = guess_2\n",
    "    \n",
    "    e1 = abs(x-x_1)\n",
    "    e2 = e1\n",
    "    e3 = e1\n",
    "    \n",
    "    for i in range(0,NMAX):\n",
    "        x = x_1 - ((x_1-x_2)/(func(x_1)-func(x_2)))*func(x_1)\n",
    "        e1 = e2\n",
    "        e2 = e3\n",
    "        e3 = np.abs(x-x_1)\n",
    "        rate1 = np.log(e2/e3)/np.log(e1/e2)\n",
    "        if i > 8:\n",
    "            print(\" the rate of convergence is {}\".format(rate1))\n",
    "        if np.abs(x-x_1) <= tolerence or i >= NMAX:\n",
    "            return x\n",
    "        \n",
    "        else:\n",
    "            x_2 = x_1\n",
    "            x_1 = x\n",
    "        \n",
    "        \n",
    "    return x\n",
    "\n",
    "print(rate(func_1, 0.9, 1.5, TOL, NMAX))\n"
   ]
  },
  {
   "cell_type": "markdown",
   "metadata": {},
   "source": [
    "### Observations\n",
    "The secant method converges on the roots much faster with far fewer iterations\n"
   ]
  },
  {
   "cell_type": "markdown",
   "metadata": {},
   "source": [
    "### Discussion\n",
    "The convergence rate of this method when calculated is roughly 1.6, which is close to the expected rate \n",
    "of 1.62"
   ]
  }
 ],
 "metadata": {
  "kernelspec": {
   "display_name": "Python 3",
   "language": "python",
   "name": "python3"
  },
  "language_info": {
   "codemirror_mode": {
    "name": "ipython",
    "version": 3
   },
   "file_extension": ".py",
   "mimetype": "text/x-python",
   "name": "python",
   "nbconvert_exporter": "python",
   "pygments_lexer": "ipython3",
   "version": "3.7.3"
  },
  "pycharm": {
   "stem_cell": {
    "cell_type": "raw",
    "metadata": {
     "collapsed": false
    },
    "source": []
   }
  }
 },
 "nbformat": 4,
 "nbformat_minor": 2
}
